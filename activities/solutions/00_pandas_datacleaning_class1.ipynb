{
 "cells": [
  {
   "cell_type": "markdown",
   "metadata": {},
   "source": [
    "## 0. Load imports "
   ]
  },
  {
   "cell_type": "code",
   "execution_count": 193,
   "metadata": {},
   "outputs": [],
   "source": [
    "## imports\n",
    "import pandas as pd\n",
    "import numpy as np\n",
    "import matplotlib.pyplot as plt"
   ]
  },
  {
   "cell_type": "markdown",
   "metadata": {},
   "source": [
    "## 0. Load data"
   ]
  },
  {
   "cell_type": "code",
   "execution_count": 194,
   "metadata": {},
   "outputs": [],
   "source": [
    "## load data on 2020 crimes in DC\n",
    "df = dc_crim_2020 = pd.read_csv(\"https://opendata.arcgis.com/datasets/f516e0dd7b614b088ad781b0c4002331_2.csv\")\n",
    "# dc_crim_2020.head()\n",
    "# dc_crim_2020.shape\n",
    "# dc_crim_2020.info()\n"
   ]
  },
  {
   "cell_type": "code",
   "execution_count": 168,
   "metadata": {},
   "outputs": [
    {
     "data": {
      "text/plain": [
       "OFFENSE\n",
       "THEFT/OTHER                   10927\n",
       "THEFT F/AUTO                   8283\n",
       "MOTOR VEHICLE THEFT            3260\n",
       "ROBBERY                        1998\n",
       "ASSAULT W/DANGEROUS WEAPON     1632\n",
       "BURGLARY                       1444\n",
       "HOMICIDE                        198\n",
       "SEX ABUSE                       178\n",
       "ARSON                            13\n",
       "Name: count, dtype: int64"
      ]
     },
     "execution_count": 168,
     "metadata": {},
     "output_type": "execute_result"
    }
   ],
   "source": [
    "df.OFFENSE.value_counts()"
   ]
  },
  {
   "cell_type": "code",
   "execution_count": null,
   "metadata": {},
   "outputs": [],
   "source": [
    "df.OFFENSE.value_counts()"
   ]
  },
  {
   "cell_type": "code",
   "execution_count": 14,
   "metadata": {},
   "outputs": [],
   "source": [
    "## Use tab to autocomplete\n",
    "## Use shift-tab to see variables in a function.\n",
    "\n",
    "df.OFFENSE.value_counts()\n",
    "df.WARD.value_counts()"
   ]
  },
  {
   "cell_type": "code",
   "execution_count": 99,
   "metadata": {},
   "outputs": [
    {
     "data": {
      "text/plain": [
       "0       -76.004500\n",
       "1       -75.972651\n",
       "2       -75.972226\n",
       "3       -76.023981\n",
       "4       -76.044182\n",
       "           ...    \n",
       "27928   -76.024529\n",
       "27929   -75.982318\n",
       "27930   -76.053302\n",
       "27931   -76.028143\n",
       "27932   -75.961475\n",
       "Name: X, Length: 27933, dtype: float64"
      ]
     },
     "execution_count": 99,
     "metadata": {},
     "output_type": "execute_result"
    }
   ],
   "source": [
    "df.X + 1"
   ]
  },
  {
   "cell_type": "markdown",
   "metadata": {},
   "source": [
    "#### Warm-up: Ways to add one to the column"
   ]
  },
  {
   "cell_type": "code",
   "execution_count": 197,
   "metadata": {},
   "outputs": [
    {
     "data": {
      "text/plain": [
       "0       -76.004500\n",
       "1       -75.972651\n",
       "2       -75.972226\n",
       "3       -76.023981\n",
       "4       -76.044182\n",
       "           ...    \n",
       "27928   -76.024529\n",
       "27929   -75.982318\n",
       "27930   -76.053302\n",
       "27931   -76.028143\n",
       "27932   -75.961475\n",
       "Name: X, Length: 27933, dtype: float64"
      ]
     },
     "execution_count": 197,
     "metadata": {},
     "output_type": "execute_result"
    }
   ],
   "source": [
    "df.X + 1"
   ]
  },
  {
   "cell_type": "code",
   "execution_count": null,
   "metadata": {},
   "outputs": [],
   "source": [
    "plus_1 = lambda x: x + 1\n",
    "\n",
    "def plus_1_v2(x):\n",
    "    return x + 1"
   ]
  },
  {
   "cell_type": "code",
   "execution_count": 198,
   "metadata": {},
   "outputs": [
    {
     "data": {
      "text/plain": [
       "0       -76.004500\n",
       "1       -75.972651\n",
       "2       -75.972226\n",
       "3       -76.023981\n",
       "4       -76.044182\n",
       "           ...    \n",
       "27928   -76.024529\n",
       "27929   -75.982318\n",
       "27930   -76.053302\n",
       "27931   -76.028143\n",
       "27932   -75.961475\n",
       "Name: X, Length: 27933, dtype: float64"
      ]
     },
     "execution_count": 198,
     "metadata": {},
     "output_type": "execute_result"
    }
   ],
   "source": [
    "df.X.apply(plus_1)"
   ]
  },
  {
   "cell_type": "code",
   "execution_count": 106,
   "metadata": {},
   "outputs": [
    {
     "data": {
      "text/html": [
       "<div>\n",
       "<style scoped>\n",
       "    .dataframe tbody tr th:only-of-type {\n",
       "        vertical-align: middle;\n",
       "    }\n",
       "\n",
       "    .dataframe tbody tr th {\n",
       "        vertical-align: top;\n",
       "    }\n",
       "\n",
       "    .dataframe thead th {\n",
       "        text-align: right;\n",
       "    }\n",
       "</style>\n",
       "<table border=\"1\" class=\"dataframe\">\n",
       "  <thead>\n",
       "    <tr style=\"text-align: right;\">\n",
       "      <th></th>\n",
       "      <th>WARD</th>\n",
       "      <th>OFFENSE</th>\n",
       "      <th>SHIFT</th>\n",
       "    </tr>\n",
       "  </thead>\n",
       "  <tbody>\n",
       "    <tr>\n",
       "      <th>12</th>\n",
       "      <td>1</td>\n",
       "      <td>THEFT/OTHER</td>\n",
       "      <td>DAY</td>\n",
       "    </tr>\n",
       "    <tr>\n",
       "      <th>23</th>\n",
       "      <td>1</td>\n",
       "      <td>THEFT F/AUTO</td>\n",
       "      <td>MIDNIGHT</td>\n",
       "    </tr>\n",
       "    <tr>\n",
       "      <th>27</th>\n",
       "      <td>1</td>\n",
       "      <td>THEFT/OTHER</td>\n",
       "      <td>EVENING</td>\n",
       "    </tr>\n",
       "    <tr>\n",
       "      <th>28</th>\n",
       "      <td>1</td>\n",
       "      <td>THEFT F/AUTO</td>\n",
       "      <td>DAY</td>\n",
       "    </tr>\n",
       "    <tr>\n",
       "      <th>30</th>\n",
       "      <td>1</td>\n",
       "      <td>THEFT/OTHER</td>\n",
       "      <td>EVENING</td>\n",
       "    </tr>\n",
       "    <tr>\n",
       "      <th>...</th>\n",
       "      <td>...</td>\n",
       "      <td>...</td>\n",
       "      <td>...</td>\n",
       "    </tr>\n",
       "    <tr>\n",
       "      <th>27899</th>\n",
       "      <td>1</td>\n",
       "      <td>THEFT F/AUTO</td>\n",
       "      <td>DAY</td>\n",
       "    </tr>\n",
       "    <tr>\n",
       "      <th>27915</th>\n",
       "      <td>1</td>\n",
       "      <td>MOTOR VEHICLE THEFT</td>\n",
       "      <td>MIDNIGHT</td>\n",
       "    </tr>\n",
       "    <tr>\n",
       "      <th>27916</th>\n",
       "      <td>1</td>\n",
       "      <td>THEFT F/AUTO</td>\n",
       "      <td>EVENING</td>\n",
       "    </tr>\n",
       "    <tr>\n",
       "      <th>27920</th>\n",
       "      <td>1</td>\n",
       "      <td>THEFT F/AUTO</td>\n",
       "      <td>DAY</td>\n",
       "    </tr>\n",
       "    <tr>\n",
       "      <th>27928</th>\n",
       "      <td>1</td>\n",
       "      <td>MOTOR VEHICLE THEFT</td>\n",
       "      <td>DAY</td>\n",
       "    </tr>\n",
       "  </tbody>\n",
       "</table>\n",
       "<p>3542 rows × 3 columns</p>\n",
       "</div>"
      ],
      "text/plain": [
       "       WARD              OFFENSE     SHIFT\n",
       "12        1          THEFT/OTHER       DAY\n",
       "23        1         THEFT F/AUTO  MIDNIGHT\n",
       "27        1          THEFT/OTHER   EVENING\n",
       "28        1         THEFT F/AUTO       DAY\n",
       "30        1          THEFT/OTHER   EVENING\n",
       "...     ...                  ...       ...\n",
       "27899     1         THEFT F/AUTO       DAY\n",
       "27915     1  MOTOR VEHICLE THEFT  MIDNIGHT\n",
       "27916     1         THEFT F/AUTO   EVENING\n",
       "27920     1         THEFT F/AUTO       DAY\n",
       "27928     1  MOTOR VEHICLE THEFT       DAY\n",
       "\n",
       "[3542 rows x 3 columns]"
      ]
     },
     "execution_count": 106,
     "metadata": {},
     "output_type": "execute_result"
    }
   ],
   "source": [
    "## To see what a sub-dataframe looks like, iterate with a for-loop\n",
    "\n",
    "for i, ddf in df.groupby(\"WARD\"):\n",
    "    break\n",
    "ddf[[\"WARD\", \"OFFENSE\", \"SHIFT\"]]"
   ]
  },
  {
   "cell_type": "markdown",
   "metadata": {},
   "source": [
    "## 1. Aggregation"
   ]
  },
  {
   "cell_type": "markdown",
   "metadata": {},
   "source": [
    "### Example of grouping by one variable and doing one aggregation \n",
    "\n",
    "**Task**: find and print the number of unique offense types (`OFFENSE`) by ward (`WARD`)"
   ]
  },
  {
   "cell_type": "code",
   "execution_count": 177,
   "metadata": {},
   "outputs": [
    {
     "data": {
      "text/plain": [
       "9"
      ]
     },
     "execution_count": 177,
     "metadata": {},
     "output_type": "execute_result"
    }
   ],
   "source": [
    "## Explore data by simulating a loop / groupby\n",
    "for i, ddf in df.groupby(\"WARD\"):\n",
    "    break\n",
    "    \n",
    "y = ddf[[\"WARD\", \"OFFENSE\"]].OFFENSE.unique()\n",
    "len(y)"
   ]
  },
  {
   "cell_type": "code",
   "execution_count": 118,
   "metadata": {},
   "outputs": [],
   "source": [
    "## Translate exploration code into a function\n",
    "def get_unique_num(X):\n",
    "    y = X.unique()\n",
    "    return len(y)"
   ]
  },
  {
   "cell_type": "code",
   "execution_count": 203,
   "metadata": {},
   "outputs": [
    {
     "data": {
      "text/html": [
       "<div>\n",
       "<style scoped>\n",
       "    .dataframe tbody tr th:only-of-type {\n",
       "        vertical-align: middle;\n",
       "    }\n",
       "\n",
       "    .dataframe tbody tr th {\n",
       "        vertical-align: top;\n",
       "    }\n",
       "\n",
       "    .dataframe thead th {\n",
       "        text-align: right;\n",
       "    }\n",
       "</style>\n",
       "<table border=\"1\" class=\"dataframe\">\n",
       "  <thead>\n",
       "    <tr style=\"text-align: right;\">\n",
       "      <th></th>\n",
       "      <th>WARD</th>\n",
       "      <th>OFFENSE</th>\n",
       "    </tr>\n",
       "  </thead>\n",
       "  <tbody>\n",
       "    <tr>\n",
       "      <th>0</th>\n",
       "      <td>1</td>\n",
       "      <td>9</td>\n",
       "    </tr>\n",
       "    <tr>\n",
       "      <th>1</th>\n",
       "      <td>2</td>\n",
       "      <td>9</td>\n",
       "    </tr>\n",
       "    <tr>\n",
       "      <th>2</th>\n",
       "      <td>3</td>\n",
       "      <td>8</td>\n",
       "    </tr>\n",
       "    <tr>\n",
       "      <th>3</th>\n",
       "      <td>4</td>\n",
       "      <td>8</td>\n",
       "    </tr>\n",
       "    <tr>\n",
       "      <th>4</th>\n",
       "      <td>5</td>\n",
       "      <td>9</td>\n",
       "    </tr>\n",
       "    <tr>\n",
       "      <th>5</th>\n",
       "      <td>6</td>\n",
       "      <td>9</td>\n",
       "    </tr>\n",
       "    <tr>\n",
       "      <th>6</th>\n",
       "      <td>7</td>\n",
       "      <td>9</td>\n",
       "    </tr>\n",
       "    <tr>\n",
       "      <th>7</th>\n",
       "      <td>8</td>\n",
       "      <td>9</td>\n",
       "    </tr>\n",
       "  </tbody>\n",
       "</table>\n",
       "</div>"
      ],
      "text/plain": [
       "   WARD  OFFENSE\n",
       "0     1        9\n",
       "1     2        9\n",
       "2     3        8\n",
       "3     4        8\n",
       "4     5        9\n",
       "5     6        9\n",
       "6     7        9\n",
       "7     8        9"
      ]
     },
     "execution_count": 203,
     "metadata": {},
     "output_type": "execute_result"
    }
   ],
   "source": [
    "df.groupby([\"WARD\"]).agg( \n",
    "    {\"OFFENSE\": get_unique_num}\n",
    ").reset_index() #the iloc shows the first five"
   ]
  },
  {
   "cell_type": "code",
   "execution_count": 179,
   "metadata": {},
   "outputs": [
    {
     "name": "stdout",
     "output_type": "stream",
     "text": [
      "CPU times: user 16.1 ms, sys: 2.4 ms, total: 18.5 ms\n",
      "Wall time: 21 ms\n"
     ]
    },
    {
     "data": {
      "text/html": [
       "<div>\n",
       "<style scoped>\n",
       "    .dataframe tbody tr th:only-of-type {\n",
       "        vertical-align: middle;\n",
       "    }\n",
       "\n",
       "    .dataframe tbody tr th {\n",
       "        vertical-align: top;\n",
       "    }\n",
       "\n",
       "    .dataframe thead th {\n",
       "        text-align: right;\n",
       "    }\n",
       "</style>\n",
       "<table border=\"1\" class=\"dataframe\">\n",
       "  <thead>\n",
       "    <tr style=\"text-align: right;\">\n",
       "      <th></th>\n",
       "      <th>WARD</th>\n",
       "      <th>OFFENSE</th>\n",
       "    </tr>\n",
       "  </thead>\n",
       "  <tbody>\n",
       "    <tr>\n",
       "      <th>0</th>\n",
       "      <td>1</td>\n",
       "      <td>9</td>\n",
       "    </tr>\n",
       "    <tr>\n",
       "      <th>1</th>\n",
       "      <td>2</td>\n",
       "      <td>9</td>\n",
       "    </tr>\n",
       "    <tr>\n",
       "      <th>2</th>\n",
       "      <td>3</td>\n",
       "      <td>8</td>\n",
       "    </tr>\n",
       "    <tr>\n",
       "      <th>3</th>\n",
       "      <td>4</td>\n",
       "      <td>8</td>\n",
       "    </tr>\n",
       "    <tr>\n",
       "      <th>4</th>\n",
       "      <td>5</td>\n",
       "      <td>9</td>\n",
       "    </tr>\n",
       "    <tr>\n",
       "      <th>5</th>\n",
       "      <td>6</td>\n",
       "      <td>9</td>\n",
       "    </tr>\n",
       "    <tr>\n",
       "      <th>6</th>\n",
       "      <td>7</td>\n",
       "      <td>9</td>\n",
       "    </tr>\n",
       "    <tr>\n",
       "      <th>7</th>\n",
       "      <td>8</td>\n",
       "      <td>9</td>\n",
       "    </tr>\n",
       "  </tbody>\n",
       "</table>\n",
       "</div>"
      ],
      "text/plain": [
       "   WARD  OFFENSE\n",
       "0     1        9\n",
       "1     2        9\n",
       "2     3        8\n",
       "3     4        8\n",
       "4     5        9\n",
       "5     6        9\n",
       "6     7        9\n",
       "7     8        9"
      ]
     },
     "execution_count": 179,
     "metadata": {},
     "output_type": "execute_result"
    }
   ],
   "source": [
    "%%time\n",
    "uniq_off_byward = U = df.groupby(\"WARD\").agg(\n",
    "    {\"OFFENSE\":\"nunique\"}\n",
    "    ).reset_index()\n",
    "U"
   ]
  },
  {
   "cell_type": "markdown",
   "metadata": {},
   "source": [
    "### Example of grouping by one variable and providing two summaries of the same variable\n",
    "\n",
    "**Task**: previous showed number of offenses by ward but want to find out content of offenses in each ward; create an aggregation that summarizes both the number of unique offenses by ward and what those offenses are -- for instance, by pasting the unique offenses in that ward separated by the \";\" (e.g., Theft; Burglary;...)\n",
    "\n",
    "*Hint*: you can use the join command to paste together a list separated by some delimiter. \n",
    "    - The syntax, if we are using the comma delimiter, is: \", \".join(nameoflist)"
   ]
  },
  {
   "cell_type": "code",
   "execution_count": 46,
   "metadata": {},
   "outputs": [],
   "source": [
    "def get_uniq_offs(X):\n",
    "    uniq_offs = sorted( X.unique() )\n",
    "    uniq_offs = \"; \".join( uniq_offs )\n",
    "    return uniq_offs"
   ]
  },
  {
   "cell_type": "code",
   "execution_count": 183,
   "metadata": {},
   "outputs": [
    {
     "data": {
      "text/html": [
       "<div>\n",
       "<style scoped>\n",
       "    .dataframe tbody tr th:only-of-type {\n",
       "        vertical-align: middle;\n",
       "    }\n",
       "\n",
       "    .dataframe tbody tr th {\n",
       "        vertical-align: top;\n",
       "    }\n",
       "\n",
       "    .dataframe thead tr th {\n",
       "        text-align: left;\n",
       "    }\n",
       "\n",
       "    .dataframe thead tr:last-of-type th {\n",
       "        text-align: right;\n",
       "    }\n",
       "</style>\n",
       "<table border=\"1\" class=\"dataframe\">\n",
       "  <thead>\n",
       "    <tr>\n",
       "      <th></th>\n",
       "      <th colspan=\"2\" halign=\"left\">OFFENSE</th>\n",
       "    </tr>\n",
       "    <tr>\n",
       "      <th></th>\n",
       "      <th>nunique</th>\n",
       "      <th>get_uniq_offs</th>\n",
       "    </tr>\n",
       "    <tr>\n",
       "      <th>WARD</th>\n",
       "      <th></th>\n",
       "      <th></th>\n",
       "    </tr>\n",
       "  </thead>\n",
       "  <tbody>\n",
       "    <tr>\n",
       "      <th>1</th>\n",
       "      <td>9</td>\n",
       "      <td>ARSON; ASSAULT W/DANGEROUS WEAPON; BURGLARY; H...</td>\n",
       "    </tr>\n",
       "    <tr>\n",
       "      <th>2</th>\n",
       "      <td>9</td>\n",
       "      <td>ARSON; ASSAULT W/DANGEROUS WEAPON; BURGLARY; H...</td>\n",
       "    </tr>\n",
       "    <tr>\n",
       "      <th>3</th>\n",
       "      <td>8</td>\n",
       "      <td>ASSAULT W/DANGEROUS WEAPON; BURGLARY; HOMICIDE...</td>\n",
       "    </tr>\n",
       "    <tr>\n",
       "      <th>4</th>\n",
       "      <td>8</td>\n",
       "      <td>ASSAULT W/DANGEROUS WEAPON; BURGLARY; HOMICIDE...</td>\n",
       "    </tr>\n",
       "    <tr>\n",
       "      <th>5</th>\n",
       "      <td>9</td>\n",
       "      <td>ARSON; ASSAULT W/DANGEROUS WEAPON; BURGLARY; H...</td>\n",
       "    </tr>\n",
       "    <tr>\n",
       "      <th>6</th>\n",
       "      <td>9</td>\n",
       "      <td>ARSON; ASSAULT W/DANGEROUS WEAPON; BURGLARY; H...</td>\n",
       "    </tr>\n",
       "    <tr>\n",
       "      <th>7</th>\n",
       "      <td>9</td>\n",
       "      <td>ARSON; ASSAULT W/DANGEROUS WEAPON; BURGLARY; H...</td>\n",
       "    </tr>\n",
       "    <tr>\n",
       "      <th>8</th>\n",
       "      <td>9</td>\n",
       "      <td>ARSON; ASSAULT W/DANGEROUS WEAPON; BURGLARY; H...</td>\n",
       "    </tr>\n",
       "  </tbody>\n",
       "</table>\n",
       "</div>"
      ],
      "text/plain": [
       "     OFFENSE                                                   \n",
       "     nunique                                      get_uniq_offs\n",
       "WARD                                                           \n",
       "1          9  ARSON; ASSAULT W/DANGEROUS WEAPON; BURGLARY; H...\n",
       "2          9  ARSON; ASSAULT W/DANGEROUS WEAPON; BURGLARY; H...\n",
       "3          8  ASSAULT W/DANGEROUS WEAPON; BURGLARY; HOMICIDE...\n",
       "4          8  ASSAULT W/DANGEROUS WEAPON; BURGLARY; HOMICIDE...\n",
       "5          9  ARSON; ASSAULT W/DANGEROUS WEAPON; BURGLARY; H...\n",
       "6          9  ARSON; ASSAULT W/DANGEROUS WEAPON; BURGLARY; H...\n",
       "7          9  ARSON; ASSAULT W/DANGEROUS WEAPON; BURGLARY; H...\n",
       "8          9  ARSON; ASSAULT W/DANGEROUS WEAPON; BURGLARY; H..."
      ]
     },
     "execution_count": 183,
     "metadata": {},
     "output_type": "execute_result"
    }
   ],
   "source": [
    "A = uniq_off_valcount_byward = df.groupby(\"WARD\").agg(\n",
    "        {\"OFFENSE\": [\"nunique\", get_uniq_offs]}\n",
    "        )\n",
    "A"
   ]
  },
  {
   "cell_type": "markdown",
   "metadata": {},
   "source": [
    "### Example of grouping by two variables \n",
    "\n",
    "**Task**: group by ward (`WARD`) and police shift (`SHIFT`) and find the offense that is most common in that ward and shift"
   ]
  },
  {
   "cell_type": "code",
   "execution_count": 187,
   "metadata": {},
   "outputs": [
    {
     "data": {
      "text/plain": [
       "'THEFT/OTHER'"
      ]
     },
     "execution_count": 187,
     "metadata": {},
     "output_type": "execute_result"
    }
   ],
   "source": [
    "# Explore the data\n",
    "for i, ddf in df.groupby([\"WARD\", \"SHIFT\"]):\n",
    "    break\n",
    "    \n",
    "x = ddf.OFFENSE\n",
    "x = x.value_counts()\n",
    "x.index[0]"
   ]
  },
  {
   "cell_type": "code",
   "execution_count": 189,
   "metadata": {
    "scrolled": true
   },
   "outputs": [
    {
     "data": {
      "text/html": [
       "<div>\n",
       "<style scoped>\n",
       "    .dataframe tbody tr th:only-of-type {\n",
       "        vertical-align: middle;\n",
       "    }\n",
       "\n",
       "    .dataframe tbody tr th {\n",
       "        vertical-align: top;\n",
       "    }\n",
       "\n",
       "    .dataframe thead th {\n",
       "        text-align: right;\n",
       "    }\n",
       "</style>\n",
       "<table border=\"1\" class=\"dataframe\">\n",
       "  <thead>\n",
       "    <tr style=\"text-align: right;\">\n",
       "      <th></th>\n",
       "      <th>WARD</th>\n",
       "      <th>SHIFT</th>\n",
       "      <th>OFFENSE</th>\n",
       "    </tr>\n",
       "  </thead>\n",
       "  <tbody>\n",
       "    <tr>\n",
       "      <th>0</th>\n",
       "      <td>1</td>\n",
       "      <td>DAY</td>\n",
       "      <td>THEFT/OTHER</td>\n",
       "    </tr>\n",
       "    <tr>\n",
       "      <th>1</th>\n",
       "      <td>1</td>\n",
       "      <td>EVENING</td>\n",
       "      <td>THEFT/OTHER</td>\n",
       "    </tr>\n",
       "    <tr>\n",
       "      <th>2</th>\n",
       "      <td>1</td>\n",
       "      <td>MIDNIGHT</td>\n",
       "      <td>THEFT/OTHER</td>\n",
       "    </tr>\n",
       "    <tr>\n",
       "      <th>3</th>\n",
       "      <td>2</td>\n",
       "      <td>DAY</td>\n",
       "      <td>THEFT/OTHER</td>\n",
       "    </tr>\n",
       "    <tr>\n",
       "      <th>4</th>\n",
       "      <td>2</td>\n",
       "      <td>EVENING</td>\n",
       "      <td>THEFT/OTHER</td>\n",
       "    </tr>\n",
       "    <tr>\n",
       "      <th>5</th>\n",
       "      <td>2</td>\n",
       "      <td>MIDNIGHT</td>\n",
       "      <td>THEFT/OTHER</td>\n",
       "    </tr>\n",
       "    <tr>\n",
       "      <th>6</th>\n",
       "      <td>3</td>\n",
       "      <td>DAY</td>\n",
       "      <td>THEFT/OTHER</td>\n",
       "    </tr>\n",
       "    <tr>\n",
       "      <th>7</th>\n",
       "      <td>3</td>\n",
       "      <td>EVENING</td>\n",
       "      <td>THEFT/OTHER</td>\n",
       "    </tr>\n",
       "    <tr>\n",
       "      <th>8</th>\n",
       "      <td>3</td>\n",
       "      <td>MIDNIGHT</td>\n",
       "      <td>THEFT/OTHER</td>\n",
       "    </tr>\n",
       "    <tr>\n",
       "      <th>9</th>\n",
       "      <td>4</td>\n",
       "      <td>DAY</td>\n",
       "      <td>THEFT F/AUTO</td>\n",
       "    </tr>\n",
       "    <tr>\n",
       "      <th>10</th>\n",
       "      <td>4</td>\n",
       "      <td>EVENING</td>\n",
       "      <td>THEFT/OTHER</td>\n",
       "    </tr>\n",
       "    <tr>\n",
       "      <th>11</th>\n",
       "      <td>4</td>\n",
       "      <td>MIDNIGHT</td>\n",
       "      <td>THEFT/OTHER</td>\n",
       "    </tr>\n",
       "    <tr>\n",
       "      <th>12</th>\n",
       "      <td>5</td>\n",
       "      <td>DAY</td>\n",
       "      <td>THEFT F/AUTO</td>\n",
       "    </tr>\n",
       "    <tr>\n",
       "      <th>13</th>\n",
       "      <td>5</td>\n",
       "      <td>EVENING</td>\n",
       "      <td>THEFT/OTHER</td>\n",
       "    </tr>\n",
       "    <tr>\n",
       "      <th>14</th>\n",
       "      <td>5</td>\n",
       "      <td>MIDNIGHT</td>\n",
       "      <td>THEFT/OTHER</td>\n",
       "    </tr>\n",
       "    <tr>\n",
       "      <th>15</th>\n",
       "      <td>6</td>\n",
       "      <td>DAY</td>\n",
       "      <td>THEFT/OTHER</td>\n",
       "    </tr>\n",
       "    <tr>\n",
       "      <th>16</th>\n",
       "      <td>6</td>\n",
       "      <td>EVENING</td>\n",
       "      <td>THEFT/OTHER</td>\n",
       "    </tr>\n",
       "    <tr>\n",
       "      <th>17</th>\n",
       "      <td>6</td>\n",
       "      <td>MIDNIGHT</td>\n",
       "      <td>THEFT/OTHER</td>\n",
       "    </tr>\n",
       "    <tr>\n",
       "      <th>18</th>\n",
       "      <td>7</td>\n",
       "      <td>DAY</td>\n",
       "      <td>THEFT F/AUTO</td>\n",
       "    </tr>\n",
       "    <tr>\n",
       "      <th>19</th>\n",
       "      <td>7</td>\n",
       "      <td>EVENING</td>\n",
       "      <td>THEFT/OTHER</td>\n",
       "    </tr>\n",
       "    <tr>\n",
       "      <th>20</th>\n",
       "      <td>7</td>\n",
       "      <td>MIDNIGHT</td>\n",
       "      <td>THEFT/OTHER</td>\n",
       "    </tr>\n",
       "    <tr>\n",
       "      <th>21</th>\n",
       "      <td>8</td>\n",
       "      <td>DAY</td>\n",
       "      <td>THEFT F/AUTO</td>\n",
       "    </tr>\n",
       "    <tr>\n",
       "      <th>22</th>\n",
       "      <td>8</td>\n",
       "      <td>EVENING</td>\n",
       "      <td>THEFT/OTHER</td>\n",
       "    </tr>\n",
       "    <tr>\n",
       "      <th>23</th>\n",
       "      <td>8</td>\n",
       "      <td>MIDNIGHT</td>\n",
       "      <td>ASSAULT W/DANGEROUS WEAPON</td>\n",
       "    </tr>\n",
       "  </tbody>\n",
       "</table>\n",
       "</div>"
      ],
      "text/plain": [
       "    WARD     SHIFT                     OFFENSE\n",
       "0      1       DAY                 THEFT/OTHER\n",
       "1      1   EVENING                 THEFT/OTHER\n",
       "2      1  MIDNIGHT                 THEFT/OTHER\n",
       "3      2       DAY                 THEFT/OTHER\n",
       "4      2   EVENING                 THEFT/OTHER\n",
       "5      2  MIDNIGHT                 THEFT/OTHER\n",
       "6      3       DAY                 THEFT/OTHER\n",
       "7      3   EVENING                 THEFT/OTHER\n",
       "8      3  MIDNIGHT                 THEFT/OTHER\n",
       "9      4       DAY                THEFT F/AUTO\n",
       "10     4   EVENING                 THEFT/OTHER\n",
       "11     4  MIDNIGHT                 THEFT/OTHER\n",
       "12     5       DAY                THEFT F/AUTO\n",
       "13     5   EVENING                 THEFT/OTHER\n",
       "14     5  MIDNIGHT                 THEFT/OTHER\n",
       "15     6       DAY                 THEFT/OTHER\n",
       "16     6   EVENING                 THEFT/OTHER\n",
       "17     6  MIDNIGHT                 THEFT/OTHER\n",
       "18     7       DAY                THEFT F/AUTO\n",
       "19     7   EVENING                 THEFT/OTHER\n",
       "20     7  MIDNIGHT                 THEFT/OTHER\n",
       "21     8       DAY                THEFT F/AUTO\n",
       "22     8   EVENING                 THEFT/OTHER\n",
       "23     8  MIDNIGHT  ASSAULT W/DANGEROUS WEAPON"
      ]
     },
     "execution_count": 189,
     "metadata": {},
     "output_type": "execute_result"
    }
   ],
   "source": [
    "df.groupby([\"WARD\", \"SHIFT\"])[\"OFFENSE\"].agg(pd.Series.mode).reset_index()"
   ]
  },
  {
   "cell_type": "code",
   "execution_count": 188,
   "metadata": {
    "scrolled": true
   },
   "outputs": [
    {
     "data": {
      "text/html": [
       "<div>\n",
       "<style scoped>\n",
       "    .dataframe tbody tr th:only-of-type {\n",
       "        vertical-align: middle;\n",
       "    }\n",
       "\n",
       "    .dataframe tbody tr th {\n",
       "        vertical-align: top;\n",
       "    }\n",
       "\n",
       "    .dataframe thead th {\n",
       "        text-align: right;\n",
       "    }\n",
       "</style>\n",
       "<table border=\"1\" class=\"dataframe\">\n",
       "  <thead>\n",
       "    <tr style=\"text-align: right;\">\n",
       "      <th></th>\n",
       "      <th>WARD</th>\n",
       "      <th>SHIFT</th>\n",
       "      <th>OFFENSE</th>\n",
       "    </tr>\n",
       "  </thead>\n",
       "  <tbody>\n",
       "    <tr>\n",
       "      <th>0</th>\n",
       "      <td>1</td>\n",
       "      <td>DAY</td>\n",
       "      <td>THEFT/OTHER</td>\n",
       "    </tr>\n",
       "    <tr>\n",
       "      <th>1</th>\n",
       "      <td>1</td>\n",
       "      <td>EVENING</td>\n",
       "      <td>THEFT/OTHER</td>\n",
       "    </tr>\n",
       "    <tr>\n",
       "      <th>2</th>\n",
       "      <td>1</td>\n",
       "      <td>MIDNIGHT</td>\n",
       "      <td>THEFT/OTHER</td>\n",
       "    </tr>\n",
       "    <tr>\n",
       "      <th>3</th>\n",
       "      <td>2</td>\n",
       "      <td>DAY</td>\n",
       "      <td>THEFT/OTHER</td>\n",
       "    </tr>\n",
       "    <tr>\n",
       "      <th>4</th>\n",
       "      <td>2</td>\n",
       "      <td>EVENING</td>\n",
       "      <td>THEFT/OTHER</td>\n",
       "    </tr>\n",
       "    <tr>\n",
       "      <th>5</th>\n",
       "      <td>2</td>\n",
       "      <td>MIDNIGHT</td>\n",
       "      <td>THEFT/OTHER</td>\n",
       "    </tr>\n",
       "    <tr>\n",
       "      <th>6</th>\n",
       "      <td>3</td>\n",
       "      <td>DAY</td>\n",
       "      <td>THEFT/OTHER</td>\n",
       "    </tr>\n",
       "    <tr>\n",
       "      <th>7</th>\n",
       "      <td>3</td>\n",
       "      <td>EVENING</td>\n",
       "      <td>THEFT/OTHER</td>\n",
       "    </tr>\n",
       "    <tr>\n",
       "      <th>8</th>\n",
       "      <td>3</td>\n",
       "      <td>MIDNIGHT</td>\n",
       "      <td>THEFT/OTHER</td>\n",
       "    </tr>\n",
       "    <tr>\n",
       "      <th>9</th>\n",
       "      <td>4</td>\n",
       "      <td>DAY</td>\n",
       "      <td>THEFT F/AUTO</td>\n",
       "    </tr>\n",
       "    <tr>\n",
       "      <th>10</th>\n",
       "      <td>4</td>\n",
       "      <td>EVENING</td>\n",
       "      <td>THEFT/OTHER</td>\n",
       "    </tr>\n",
       "    <tr>\n",
       "      <th>11</th>\n",
       "      <td>4</td>\n",
       "      <td>MIDNIGHT</td>\n",
       "      <td>THEFT/OTHER</td>\n",
       "    </tr>\n",
       "    <tr>\n",
       "      <th>12</th>\n",
       "      <td>5</td>\n",
       "      <td>DAY</td>\n",
       "      <td>THEFT F/AUTO</td>\n",
       "    </tr>\n",
       "    <tr>\n",
       "      <th>13</th>\n",
       "      <td>5</td>\n",
       "      <td>EVENING</td>\n",
       "      <td>THEFT/OTHER</td>\n",
       "    </tr>\n",
       "    <tr>\n",
       "      <th>14</th>\n",
       "      <td>5</td>\n",
       "      <td>MIDNIGHT</td>\n",
       "      <td>THEFT/OTHER</td>\n",
       "    </tr>\n",
       "    <tr>\n",
       "      <th>15</th>\n",
       "      <td>6</td>\n",
       "      <td>DAY</td>\n",
       "      <td>THEFT/OTHER</td>\n",
       "    </tr>\n",
       "    <tr>\n",
       "      <th>16</th>\n",
       "      <td>6</td>\n",
       "      <td>EVENING</td>\n",
       "      <td>THEFT/OTHER</td>\n",
       "    </tr>\n",
       "    <tr>\n",
       "      <th>17</th>\n",
       "      <td>6</td>\n",
       "      <td>MIDNIGHT</td>\n",
       "      <td>THEFT/OTHER</td>\n",
       "    </tr>\n",
       "    <tr>\n",
       "      <th>18</th>\n",
       "      <td>7</td>\n",
       "      <td>DAY</td>\n",
       "      <td>THEFT F/AUTO</td>\n",
       "    </tr>\n",
       "    <tr>\n",
       "      <th>19</th>\n",
       "      <td>7</td>\n",
       "      <td>EVENING</td>\n",
       "      <td>THEFT/OTHER</td>\n",
       "    </tr>\n",
       "    <tr>\n",
       "      <th>20</th>\n",
       "      <td>7</td>\n",
       "      <td>MIDNIGHT</td>\n",
       "      <td>THEFT/OTHER</td>\n",
       "    </tr>\n",
       "    <tr>\n",
       "      <th>21</th>\n",
       "      <td>8</td>\n",
       "      <td>DAY</td>\n",
       "      <td>THEFT F/AUTO</td>\n",
       "    </tr>\n",
       "    <tr>\n",
       "      <th>22</th>\n",
       "      <td>8</td>\n",
       "      <td>EVENING</td>\n",
       "      <td>THEFT/OTHER</td>\n",
       "    </tr>\n",
       "    <tr>\n",
       "      <th>23</th>\n",
       "      <td>8</td>\n",
       "      <td>MIDNIGHT</td>\n",
       "      <td>ASSAULT W/DANGEROUS WEAPON</td>\n",
       "    </tr>\n",
       "  </tbody>\n",
       "</table>\n",
       "</div>"
      ],
      "text/plain": [
       "    WARD     SHIFT                     OFFENSE\n",
       "0      1       DAY                 THEFT/OTHER\n",
       "1      1   EVENING                 THEFT/OTHER\n",
       "2      1  MIDNIGHT                 THEFT/OTHER\n",
       "3      2       DAY                 THEFT/OTHER\n",
       "4      2   EVENING                 THEFT/OTHER\n",
       "5      2  MIDNIGHT                 THEFT/OTHER\n",
       "6      3       DAY                 THEFT/OTHER\n",
       "7      3   EVENING                 THEFT/OTHER\n",
       "8      3  MIDNIGHT                 THEFT/OTHER\n",
       "9      4       DAY                THEFT F/AUTO\n",
       "10     4   EVENING                 THEFT/OTHER\n",
       "11     4  MIDNIGHT                 THEFT/OTHER\n",
       "12     5       DAY                THEFT F/AUTO\n",
       "13     5   EVENING                 THEFT/OTHER\n",
       "14     5  MIDNIGHT                 THEFT/OTHER\n",
       "15     6       DAY                 THEFT/OTHER\n",
       "16     6   EVENING                 THEFT/OTHER\n",
       "17     6  MIDNIGHT                 THEFT/OTHER\n",
       "18     7       DAY                THEFT F/AUTO\n",
       "19     7   EVENING                 THEFT/OTHER\n",
       "20     7  MIDNIGHT                 THEFT/OTHER\n",
       "21     8       DAY                THEFT F/AUTO\n",
       "22     8   EVENING                 THEFT/OTHER\n",
       "23     8  MIDNIGHT  ASSAULT W/DANGEROUS WEAPON"
      ]
     },
     "execution_count": 188,
     "metadata": {},
     "output_type": "execute_result"
    }
   ],
   "source": [
    "B = ward_shift_top_offense = df.groupby([\"WARD\", \"SHIFT\"]).agg(\n",
    "        {\n",
    "            \"OFFENSE\": lambda x: x.value_counts().index[0]\n",
    "        }\n",
    "        ).reset_index()\n",
    "B"
   ]
  },
  {
   "cell_type": "markdown",
   "metadata": {},
   "source": [
    "## Summarizing over all rows or all columns (without grouping)\n",
    "\n",
    "We can also use the `apply` function to summarize rows or columns efficiently"
   ]
  },
  {
   "cell_type": "markdown",
   "metadata": {},
   "source": [
    "**Task**: find the mean lat and longitude in one line of code"
   ]
  },
  {
   "cell_type": "code",
   "execution_count": 63,
   "metadata": {},
   "outputs": [
    {
     "data": {
      "text/plain": [
       "LATITUDE     38.907613\n",
       "LONGITUDE   -77.007049\n",
       "dtype: float64"
      ]
     },
     "execution_count": 63,
     "metadata": {},
     "output_type": "execute_result"
    }
   ],
   "source": [
    "df[[\"LATITUDE\", \"LONGITUDE\"]].apply(\"mean\", axis = 0)"
   ]
  },
  {
   "cell_type": "markdown",
   "metadata": {},
   "source": [
    "## 2. Creating new columns/transforming their type "
   ]
  },
  {
   "cell_type": "markdown",
   "metadata": {},
   "source": [
    "### Simple filtering\n",
    "\n",
    "`np.where` is in the numpy package (aliased as `np`) and operates similar to `ifelse` in R\n",
    "\n",
    "There is a built in pandas way to emulate this.\n",
    "\n",
    "**Task**: create an indicator `is_theft` for any offense that contains the word \"THEFT\"\n",
    "    \n",
    "**Task**: create an indicator `is_theft_notmotor` for any offense that contains the word \"THEFT\" but does not contain the word \"MOTOR\""
   ]
  },
  {
   "cell_type": "code",
   "execution_count": 158,
   "metadata": {},
   "outputs": [],
   "source": [
    "df[\"is_theft\"] = df.OFFENSE.str.contains(\"THEFT\")"
   ]
  },
  {
   "cell_type": "code",
   "execution_count": 69,
   "metadata": {},
   "outputs": [],
   "source": [
    "df[\"is_theft_notmotor\"] = ( df.OFFENSE.str.contains(\"THEFT\") &\n",
    "                        ~df.OFFENSE.str.contains(\"MOTOR\")  )"
   ]
  },
  {
   "cell_type": "code",
   "execution_count": 159,
   "metadata": {},
   "outputs": [
    {
     "data": {
      "text/plain": [
       "0        False\n",
       "1        False\n",
       "2        False\n",
       "3         True\n",
       "4        False\n",
       "         ...  \n",
       "27928    False\n",
       "27929    False\n",
       "27930     True\n",
       "27931    False\n",
       "27932     True\n",
       "Length: 27933, dtype: bool"
      ]
     },
     "execution_count": 159,
     "metadata": {},
     "output_type": "execute_result"
    }
   ],
   "source": [
    "df.is_theft & (~df.OFFENSE.str.contains(\"MOTOR\"))"
   ]
  }
 ],
 "metadata": {
  "kernelspec": {
   "display_name": "Python 3 (ipykernel)",
   "language": "python",
   "name": "python3"
  },
  "language_info": {
   "codemirror_mode": {
    "name": "ipython",
    "version": 3
   },
   "file_extension": ".py",
   "mimetype": "text/x-python",
   "name": "python",
   "nbconvert_exporter": "python",
   "pygments_lexer": "ipython3",
   "version": "3.9.12"
  }
 },
 "nbformat": 4,
 "nbformat_minor": 4
}
