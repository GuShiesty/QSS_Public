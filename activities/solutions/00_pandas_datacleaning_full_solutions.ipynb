{
 "cells": [
  {
   "cell_type": "markdown",
   "metadata": {},
   "source": [
    "## 0. Load imports "
   ]
  },
  {
   "cell_type": "code",
   "execution_count": 3,
   "metadata": {},
   "outputs": [],
   "source": [
    "## imports\n",
    "import pandas as pd\n",
    "import numpy as np\n",
    "import matplotlib.pyplot as plt"
   ]
  },
  {
   "cell_type": "markdown",
   "metadata": {},
   "source": [
    "## 0. Load data"
   ]
  },
  {
   "cell_type": "code",
   "execution_count": 4,
   "metadata": {},
   "outputs": [],
   "source": [
    "## load data on 2020 crimes in DC\n",
    "df = dc_crim_2020 = pd.read_csv(\"https://opendata.arcgis.com/datasets/f516e0dd7b614b088ad781b0c4002331_2.csv\")\n",
    "# dc_crim_2020.head()\n",
    "# dc_crim_2020.shape\n",
    "# dc_crim_2020.info()\n"
   ]
  },
  {
   "cell_type": "code",
   "execution_count": 168,
   "metadata": {},
   "outputs": [
    {
     "data": {
      "text/plain": [
       "OFFENSE\n",
       "THEFT/OTHER                   10927\n",
       "THEFT F/AUTO                   8283\n",
       "MOTOR VEHICLE THEFT            3260\n",
       "ROBBERY                        1998\n",
       "ASSAULT W/DANGEROUS WEAPON     1632\n",
       "BURGLARY                       1444\n",
       "HOMICIDE                        198\n",
       "SEX ABUSE                       178\n",
       "ARSON                            13\n",
       "Name: count, dtype: int64"
      ]
     },
     "execution_count": 168,
     "metadata": {},
     "output_type": "execute_result"
    }
   ],
   "source": [
    "df.OFFENSE.value_counts()"
   ]
  },
  {
   "cell_type": "code",
   "execution_count": null,
   "metadata": {},
   "outputs": [],
   "source": [
    "df.OFFENSE.value_counts()"
   ]
  },
  {
   "cell_type": "code",
   "execution_count": 14,
   "metadata": {},
   "outputs": [],
   "source": [
    "## Use tab to autocomplete\n",
    "## Use shift-tab to see variables in a function.\n",
    "\n",
    "df.OFFENSE.value_counts()\n",
    "df.WARD.value_counts()"
   ]
  },
  {
   "cell_type": "code",
   "execution_count": 99,
   "metadata": {},
   "outputs": [
    {
     "data": {
      "text/plain": [
       "0       -76.004500\n",
       "1       -75.972651\n",
       "2       -75.972226\n",
       "3       -76.023981\n",
       "4       -76.044182\n",
       "           ...    \n",
       "27928   -76.024529\n",
       "27929   -75.982318\n",
       "27930   -76.053302\n",
       "27931   -76.028143\n",
       "27932   -75.961475\n",
       "Name: X, Length: 27933, dtype: float64"
      ]
     },
     "execution_count": 99,
     "metadata": {},
     "output_type": "execute_result"
    }
   ],
   "source": [
    "df.X + 1"
   ]
  },
  {
   "cell_type": "markdown",
   "metadata": {},
   "source": [
    "#### Warm-up: Ways to add one to the column"
   ]
  },
  {
   "cell_type": "code",
   "execution_count": 197,
   "metadata": {},
   "outputs": [
    {
     "data": {
      "text/plain": [
       "0       -76.004500\n",
       "1       -75.972651\n",
       "2       -75.972226\n",
       "3       -76.023981\n",
       "4       -76.044182\n",
       "           ...    \n",
       "27928   -76.024529\n",
       "27929   -75.982318\n",
       "27930   -76.053302\n",
       "27931   -76.028143\n",
       "27932   -75.961475\n",
       "Name: X, Length: 27933, dtype: float64"
      ]
     },
     "execution_count": 197,
     "metadata": {},
     "output_type": "execute_result"
    }
   ],
   "source": [
    "df.X + 1"
   ]
  },
  {
   "cell_type": "code",
   "execution_count": null,
   "metadata": {},
   "outputs": [],
   "source": [
    "plus_1 = lambda x: x + 1\n",
    "\n",
    "def plus_1_v2(x):\n",
    "    return x + 1"
   ]
  },
  {
   "cell_type": "code",
   "execution_count": 198,
   "metadata": {},
   "outputs": [
    {
     "data": {
      "text/plain": [
       "0       -76.004500\n",
       "1       -75.972651\n",
       "2       -75.972226\n",
       "3       -76.023981\n",
       "4       -76.044182\n",
       "           ...    \n",
       "27928   -76.024529\n",
       "27929   -75.982318\n",
       "27930   -76.053302\n",
       "27931   -76.028143\n",
       "27932   -75.961475\n",
       "Name: X, Length: 27933, dtype: float64"
      ]
     },
     "execution_count": 198,
     "metadata": {},
     "output_type": "execute_result"
    }
   ],
   "source": [
    "df.X.apply(plus_1)"
   ]
  },
  {
   "cell_type": "code",
   "execution_count": 106,
   "metadata": {},
   "outputs": [
    {
     "data": {
      "text/html": [
       "<div>\n",
       "<style scoped>\n",
       "    .dataframe tbody tr th:only-of-type {\n",
       "        vertical-align: middle;\n",
       "    }\n",
       "\n",
       "    .dataframe tbody tr th {\n",
       "        vertical-align: top;\n",
       "    }\n",
       "\n",
       "    .dataframe thead th {\n",
       "        text-align: right;\n",
       "    }\n",
       "</style>\n",
       "<table border=\"1\" class=\"dataframe\">\n",
       "  <thead>\n",
       "    <tr style=\"text-align: right;\">\n",
       "      <th></th>\n",
       "      <th>WARD</th>\n",
       "      <th>OFFENSE</th>\n",
       "      <th>SHIFT</th>\n",
       "    </tr>\n",
       "  </thead>\n",
       "  <tbody>\n",
       "    <tr>\n",
       "      <th>12</th>\n",
       "      <td>1</td>\n",
       "      <td>THEFT/OTHER</td>\n",
       "      <td>DAY</td>\n",
       "    </tr>\n",
       "    <tr>\n",
       "      <th>23</th>\n",
       "      <td>1</td>\n",
       "      <td>THEFT F/AUTO</td>\n",
       "      <td>MIDNIGHT</td>\n",
       "    </tr>\n",
       "    <tr>\n",
       "      <th>27</th>\n",
       "      <td>1</td>\n",
       "      <td>THEFT/OTHER</td>\n",
       "      <td>EVENING</td>\n",
       "    </tr>\n",
       "    <tr>\n",
       "      <th>28</th>\n",
       "      <td>1</td>\n",
       "      <td>THEFT F/AUTO</td>\n",
       "      <td>DAY</td>\n",
       "    </tr>\n",
       "    <tr>\n",
       "      <th>30</th>\n",
       "      <td>1</td>\n",
       "      <td>THEFT/OTHER</td>\n",
       "      <td>EVENING</td>\n",
       "    </tr>\n",
       "    <tr>\n",
       "      <th>...</th>\n",
       "      <td>...</td>\n",
       "      <td>...</td>\n",
       "      <td>...</td>\n",
       "    </tr>\n",
       "    <tr>\n",
       "      <th>27899</th>\n",
       "      <td>1</td>\n",
       "      <td>THEFT F/AUTO</td>\n",
       "      <td>DAY</td>\n",
       "    </tr>\n",
       "    <tr>\n",
       "      <th>27915</th>\n",
       "      <td>1</td>\n",
       "      <td>MOTOR VEHICLE THEFT</td>\n",
       "      <td>MIDNIGHT</td>\n",
       "    </tr>\n",
       "    <tr>\n",
       "      <th>27916</th>\n",
       "      <td>1</td>\n",
       "      <td>THEFT F/AUTO</td>\n",
       "      <td>EVENING</td>\n",
       "    </tr>\n",
       "    <tr>\n",
       "      <th>27920</th>\n",
       "      <td>1</td>\n",
       "      <td>THEFT F/AUTO</td>\n",
       "      <td>DAY</td>\n",
       "    </tr>\n",
       "    <tr>\n",
       "      <th>27928</th>\n",
       "      <td>1</td>\n",
       "      <td>MOTOR VEHICLE THEFT</td>\n",
       "      <td>DAY</td>\n",
       "    </tr>\n",
       "  </tbody>\n",
       "</table>\n",
       "<p>3542 rows × 3 columns</p>\n",
       "</div>"
      ],
      "text/plain": [
       "       WARD              OFFENSE     SHIFT\n",
       "12        1          THEFT/OTHER       DAY\n",
       "23        1         THEFT F/AUTO  MIDNIGHT\n",
       "27        1          THEFT/OTHER   EVENING\n",
       "28        1         THEFT F/AUTO       DAY\n",
       "30        1          THEFT/OTHER   EVENING\n",
       "...     ...                  ...       ...\n",
       "27899     1         THEFT F/AUTO       DAY\n",
       "27915     1  MOTOR VEHICLE THEFT  MIDNIGHT\n",
       "27916     1         THEFT F/AUTO   EVENING\n",
       "27920     1         THEFT F/AUTO       DAY\n",
       "27928     1  MOTOR VEHICLE THEFT       DAY\n",
       "\n",
       "[3542 rows x 3 columns]"
      ]
     },
     "execution_count": 106,
     "metadata": {},
     "output_type": "execute_result"
    }
   ],
   "source": [
    "## To see what a sub-dataframe looks like, iterate with a for-loop\n",
    "\n",
    "for i, ddf in df.groupby(\"WARD\"):\n",
    "    break\n",
    "ddf[[\"WARD\", \"OFFENSE\", \"SHIFT\"]]"
   ]
  },
  {
   "cell_type": "markdown",
   "metadata": {},
   "source": [
    "## 1. Aggregation"
   ]
  },
  {
   "cell_type": "markdown",
   "metadata": {},
   "source": [
    "### Example of grouping by one variable and doing one aggregation \n",
    "\n",
    "**Task**: find and print the number of unique offense types (`OFFENSE`) by ward (`WARD`)"
   ]
  },
  {
   "cell_type": "code",
   "execution_count": 9,
   "metadata": {},
   "outputs": [
    {
     "data": {
      "text/plain": [
       "9"
      ]
     },
     "execution_count": 9,
     "metadata": {},
     "output_type": "execute_result"
    }
   ],
   "source": [
    "## Explore data by simulating a loop / groupby\n",
    "for i, ddf in df.groupby(\"WARD\"):\n",
    "    break\n",
    "    \n",
    "y = ddf[[\"WARD\", \"OFFENSE\"]].OFFENSE.unique()\n",
    "len(y)"
   ]
  },
  {
   "cell_type": "code",
   "execution_count": 10,
   "metadata": {},
   "outputs": [],
   "source": [
    "## Translate exploration code into a function\n",
    "def get_unique_num(X):\n",
    "    y = X.unique()\n",
    "    return len(y)"
   ]
  },
  {
   "cell_type": "code",
   "execution_count": 11,
   "metadata": {},
   "outputs": [
    {
     "data": {
      "text/html": [
       "<div>\n",
       "<style scoped>\n",
       "    .dataframe tbody tr th:only-of-type {\n",
       "        vertical-align: middle;\n",
       "    }\n",
       "\n",
       "    .dataframe tbody tr th {\n",
       "        vertical-align: top;\n",
       "    }\n",
       "\n",
       "    .dataframe thead th {\n",
       "        text-align: right;\n",
       "    }\n",
       "</style>\n",
       "<table border=\"1\" class=\"dataframe\">\n",
       "  <thead>\n",
       "    <tr style=\"text-align: right;\">\n",
       "      <th></th>\n",
       "      <th>WARD</th>\n",
       "      <th>OFFENSE</th>\n",
       "    </tr>\n",
       "  </thead>\n",
       "  <tbody>\n",
       "    <tr>\n",
       "      <th>0</th>\n",
       "      <td>1</td>\n",
       "      <td>9</td>\n",
       "    </tr>\n",
       "    <tr>\n",
       "      <th>1</th>\n",
       "      <td>2</td>\n",
       "      <td>9</td>\n",
       "    </tr>\n",
       "    <tr>\n",
       "      <th>2</th>\n",
       "      <td>3</td>\n",
       "      <td>8</td>\n",
       "    </tr>\n",
       "    <tr>\n",
       "      <th>3</th>\n",
       "      <td>4</td>\n",
       "      <td>8</td>\n",
       "    </tr>\n",
       "    <tr>\n",
       "      <th>4</th>\n",
       "      <td>5</td>\n",
       "      <td>9</td>\n",
       "    </tr>\n",
       "    <tr>\n",
       "      <th>5</th>\n",
       "      <td>6</td>\n",
       "      <td>9</td>\n",
       "    </tr>\n",
       "    <tr>\n",
       "      <th>6</th>\n",
       "      <td>7</td>\n",
       "      <td>9</td>\n",
       "    </tr>\n",
       "    <tr>\n",
       "      <th>7</th>\n",
       "      <td>8</td>\n",
       "      <td>9</td>\n",
       "    </tr>\n",
       "  </tbody>\n",
       "</table>\n",
       "</div>"
      ],
      "text/plain": [
       "   WARD  OFFENSE\n",
       "0     1        9\n",
       "1     2        9\n",
       "2     3        8\n",
       "3     4        8\n",
       "4     5        9\n",
       "5     6        9\n",
       "6     7        9\n",
       "7     8        9"
      ]
     },
     "execution_count": 11,
     "metadata": {},
     "output_type": "execute_result"
    }
   ],
   "source": [
    "df.groupby([\"WARD\"]).agg( \n",
    "    {\"OFFENSE\": get_unique_num}\n",
    ").reset_index() #the iloc shows the first five"
   ]
  },
  {
   "cell_type": "code",
   "execution_count": 12,
   "metadata": {},
   "outputs": [
    {
     "name": "stdout",
     "output_type": "stream",
     "text": [
      "CPU times: user 11.8 ms, sys: 3.13 ms, total: 15 ms\n",
      "Wall time: 15.3 ms\n"
     ]
    },
    {
     "data": {
      "text/html": [
       "<div>\n",
       "<style scoped>\n",
       "    .dataframe tbody tr th:only-of-type {\n",
       "        vertical-align: middle;\n",
       "    }\n",
       "\n",
       "    .dataframe tbody tr th {\n",
       "        vertical-align: top;\n",
       "    }\n",
       "\n",
       "    .dataframe thead th {\n",
       "        text-align: right;\n",
       "    }\n",
       "</style>\n",
       "<table border=\"1\" class=\"dataframe\">\n",
       "  <thead>\n",
       "    <tr style=\"text-align: right;\">\n",
       "      <th></th>\n",
       "      <th>WARD</th>\n",
       "      <th>OFFENSE</th>\n",
       "    </tr>\n",
       "  </thead>\n",
       "  <tbody>\n",
       "    <tr>\n",
       "      <th>0</th>\n",
       "      <td>1</td>\n",
       "      <td>9</td>\n",
       "    </tr>\n",
       "    <tr>\n",
       "      <th>1</th>\n",
       "      <td>2</td>\n",
       "      <td>9</td>\n",
       "    </tr>\n",
       "    <tr>\n",
       "      <th>2</th>\n",
       "      <td>3</td>\n",
       "      <td>8</td>\n",
       "    </tr>\n",
       "    <tr>\n",
       "      <th>3</th>\n",
       "      <td>4</td>\n",
       "      <td>8</td>\n",
       "    </tr>\n",
       "    <tr>\n",
       "      <th>4</th>\n",
       "      <td>5</td>\n",
       "      <td>9</td>\n",
       "    </tr>\n",
       "    <tr>\n",
       "      <th>5</th>\n",
       "      <td>6</td>\n",
       "      <td>9</td>\n",
       "    </tr>\n",
       "    <tr>\n",
       "      <th>6</th>\n",
       "      <td>7</td>\n",
       "      <td>9</td>\n",
       "    </tr>\n",
       "    <tr>\n",
       "      <th>7</th>\n",
       "      <td>8</td>\n",
       "      <td>9</td>\n",
       "    </tr>\n",
       "  </tbody>\n",
       "</table>\n",
       "</div>"
      ],
      "text/plain": [
       "   WARD  OFFENSE\n",
       "0     1        9\n",
       "1     2        9\n",
       "2     3        8\n",
       "3     4        8\n",
       "4     5        9\n",
       "5     6        9\n",
       "6     7        9\n",
       "7     8        9"
      ]
     },
     "execution_count": 12,
     "metadata": {},
     "output_type": "execute_result"
    }
   ],
   "source": [
    "%%time\n",
    "uniq_off_byward = U = df.groupby(\"WARD\").agg(\n",
    "    {\"OFFENSE\":\"nunique\"}\n",
    "    ).reset_index()\n",
    "U"
   ]
  },
  {
   "cell_type": "markdown",
   "metadata": {},
   "source": [
    "### Example of grouping by one variable and providing two summaries of the same variable\n",
    "\n",
    "**Task**: previous showed number of offenses by ward but want to find out content of offenses in each ward; create an aggregation that summarizes both the number of unique offenses by ward and what those offenses are -- for instance, by pasting the unique offenses in that ward separated by the \";\" (e.g., Theft; Burglary;...)\n",
    "\n",
    "*Hint*: you can use the join command to paste together a list separated by some delimiter. \n",
    "    - The syntax, if we are using the comma delimiter, is: \", \".join(nameoflist)"
   ]
  },
  {
   "cell_type": "code",
   "execution_count": 13,
   "metadata": {},
   "outputs": [],
   "source": [
    "def get_uniq_offs(X):\n",
    "    uniq_offs = sorted( X.unique() )\n",
    "    uniq_offs = \"; \".join( uniq_offs )\n",
    "    return uniq_offs"
   ]
  },
  {
   "cell_type": "code",
   "execution_count": 14,
   "metadata": {},
   "outputs": [
    {
     "data": {
      "text/html": [
       "<div>\n",
       "<style scoped>\n",
       "    .dataframe tbody tr th:only-of-type {\n",
       "        vertical-align: middle;\n",
       "    }\n",
       "\n",
       "    .dataframe tbody tr th {\n",
       "        vertical-align: top;\n",
       "    }\n",
       "\n",
       "    .dataframe thead tr th {\n",
       "        text-align: left;\n",
       "    }\n",
       "\n",
       "    .dataframe thead tr:last-of-type th {\n",
       "        text-align: right;\n",
       "    }\n",
       "</style>\n",
       "<table border=\"1\" class=\"dataframe\">\n",
       "  <thead>\n",
       "    <tr>\n",
       "      <th></th>\n",
       "      <th colspan=\"2\" halign=\"left\">OFFENSE</th>\n",
       "    </tr>\n",
       "    <tr>\n",
       "      <th></th>\n",
       "      <th>nunique</th>\n",
       "      <th>get_uniq_offs</th>\n",
       "    </tr>\n",
       "    <tr>\n",
       "      <th>WARD</th>\n",
       "      <th></th>\n",
       "      <th></th>\n",
       "    </tr>\n",
       "  </thead>\n",
       "  <tbody>\n",
       "    <tr>\n",
       "      <th>1</th>\n",
       "      <td>9</td>\n",
       "      <td>ARSON; ASSAULT W/DANGEROUS WEAPON; BURGLARY; H...</td>\n",
       "    </tr>\n",
       "    <tr>\n",
       "      <th>2</th>\n",
       "      <td>9</td>\n",
       "      <td>ARSON; ASSAULT W/DANGEROUS WEAPON; BURGLARY; H...</td>\n",
       "    </tr>\n",
       "    <tr>\n",
       "      <th>3</th>\n",
       "      <td>8</td>\n",
       "      <td>ASSAULT W/DANGEROUS WEAPON; BURGLARY; HOMICIDE...</td>\n",
       "    </tr>\n",
       "    <tr>\n",
       "      <th>4</th>\n",
       "      <td>8</td>\n",
       "      <td>ASSAULT W/DANGEROUS WEAPON; BURGLARY; HOMICIDE...</td>\n",
       "    </tr>\n",
       "    <tr>\n",
       "      <th>5</th>\n",
       "      <td>9</td>\n",
       "      <td>ARSON; ASSAULT W/DANGEROUS WEAPON; BURGLARY; H...</td>\n",
       "    </tr>\n",
       "    <tr>\n",
       "      <th>6</th>\n",
       "      <td>9</td>\n",
       "      <td>ARSON; ASSAULT W/DANGEROUS WEAPON; BURGLARY; H...</td>\n",
       "    </tr>\n",
       "    <tr>\n",
       "      <th>7</th>\n",
       "      <td>9</td>\n",
       "      <td>ARSON; ASSAULT W/DANGEROUS WEAPON; BURGLARY; H...</td>\n",
       "    </tr>\n",
       "    <tr>\n",
       "      <th>8</th>\n",
       "      <td>9</td>\n",
       "      <td>ARSON; ASSAULT W/DANGEROUS WEAPON; BURGLARY; H...</td>\n",
       "    </tr>\n",
       "  </tbody>\n",
       "</table>\n",
       "</div>"
      ],
      "text/plain": [
       "     OFFENSE                                                   \n",
       "     nunique                                      get_uniq_offs\n",
       "WARD                                                           \n",
       "1          9  ARSON; ASSAULT W/DANGEROUS WEAPON; BURGLARY; H...\n",
       "2          9  ARSON; ASSAULT W/DANGEROUS WEAPON; BURGLARY; H...\n",
       "3          8  ASSAULT W/DANGEROUS WEAPON; BURGLARY; HOMICIDE...\n",
       "4          8  ASSAULT W/DANGEROUS WEAPON; BURGLARY; HOMICIDE...\n",
       "5          9  ARSON; ASSAULT W/DANGEROUS WEAPON; BURGLARY; H...\n",
       "6          9  ARSON; ASSAULT W/DANGEROUS WEAPON; BURGLARY; H...\n",
       "7          9  ARSON; ASSAULT W/DANGEROUS WEAPON; BURGLARY; H...\n",
       "8          9  ARSON; ASSAULT W/DANGEROUS WEAPON; BURGLARY; H..."
      ]
     },
     "execution_count": 14,
     "metadata": {},
     "output_type": "execute_result"
    }
   ],
   "source": [
    "A = uniq_off_valcount_byward = df.groupby(\"WARD\").agg(\n",
    "        {\"OFFENSE\": [\"nunique\", get_uniq_offs]}\n",
    "        )\n",
    "A"
   ]
  },
  {
   "cell_type": "markdown",
   "metadata": {},
   "source": [
    "### Example of grouping by two variables \n",
    "\n",
    "**Task**: group by ward (`WARD`) and police shift (`SHIFT`) and find the offense that is most common in that ward and shift"
   ]
  },
  {
   "cell_type": "code",
   "execution_count": 15,
   "metadata": {},
   "outputs": [
    {
     "data": {
      "text/plain": [
       "'THEFT/OTHER'"
      ]
     },
     "execution_count": 15,
     "metadata": {},
     "output_type": "execute_result"
    }
   ],
   "source": [
    "# Explore the data\n",
    "for i, ddf in df.groupby([\"WARD\", \"SHIFT\"]):\n",
    "    break\n",
    "    \n",
    "x = ddf.OFFENSE\n",
    "x = x.value_counts()\n",
    "x.index[0]"
   ]
  },
  {
   "cell_type": "code",
   "execution_count": 16,
   "metadata": {
    "scrolled": true
   },
   "outputs": [
    {
     "data": {
      "text/html": [
       "<div>\n",
       "<style scoped>\n",
       "    .dataframe tbody tr th:only-of-type {\n",
       "        vertical-align: middle;\n",
       "    }\n",
       "\n",
       "    .dataframe tbody tr th {\n",
       "        vertical-align: top;\n",
       "    }\n",
       "\n",
       "    .dataframe thead th {\n",
       "        text-align: right;\n",
       "    }\n",
       "</style>\n",
       "<table border=\"1\" class=\"dataframe\">\n",
       "  <thead>\n",
       "    <tr style=\"text-align: right;\">\n",
       "      <th></th>\n",
       "      <th>WARD</th>\n",
       "      <th>SHIFT</th>\n",
       "      <th>OFFENSE</th>\n",
       "    </tr>\n",
       "  </thead>\n",
       "  <tbody>\n",
       "    <tr>\n",
       "      <th>0</th>\n",
       "      <td>1</td>\n",
       "      <td>DAY</td>\n",
       "      <td>THEFT/OTHER</td>\n",
       "    </tr>\n",
       "    <tr>\n",
       "      <th>1</th>\n",
       "      <td>1</td>\n",
       "      <td>EVENING</td>\n",
       "      <td>THEFT/OTHER</td>\n",
       "    </tr>\n",
       "    <tr>\n",
       "      <th>2</th>\n",
       "      <td>1</td>\n",
       "      <td>MIDNIGHT</td>\n",
       "      <td>THEFT/OTHER</td>\n",
       "    </tr>\n",
       "    <tr>\n",
       "      <th>3</th>\n",
       "      <td>2</td>\n",
       "      <td>DAY</td>\n",
       "      <td>THEFT/OTHER</td>\n",
       "    </tr>\n",
       "    <tr>\n",
       "      <th>4</th>\n",
       "      <td>2</td>\n",
       "      <td>EVENING</td>\n",
       "      <td>THEFT/OTHER</td>\n",
       "    </tr>\n",
       "    <tr>\n",
       "      <th>5</th>\n",
       "      <td>2</td>\n",
       "      <td>MIDNIGHT</td>\n",
       "      <td>THEFT/OTHER</td>\n",
       "    </tr>\n",
       "    <tr>\n",
       "      <th>6</th>\n",
       "      <td>3</td>\n",
       "      <td>DAY</td>\n",
       "      <td>THEFT/OTHER</td>\n",
       "    </tr>\n",
       "    <tr>\n",
       "      <th>7</th>\n",
       "      <td>3</td>\n",
       "      <td>EVENING</td>\n",
       "      <td>THEFT/OTHER</td>\n",
       "    </tr>\n",
       "    <tr>\n",
       "      <th>8</th>\n",
       "      <td>3</td>\n",
       "      <td>MIDNIGHT</td>\n",
       "      <td>THEFT/OTHER</td>\n",
       "    </tr>\n",
       "    <tr>\n",
       "      <th>9</th>\n",
       "      <td>4</td>\n",
       "      <td>DAY</td>\n",
       "      <td>THEFT F/AUTO</td>\n",
       "    </tr>\n",
       "    <tr>\n",
       "      <th>10</th>\n",
       "      <td>4</td>\n",
       "      <td>EVENING</td>\n",
       "      <td>THEFT/OTHER</td>\n",
       "    </tr>\n",
       "    <tr>\n",
       "      <th>11</th>\n",
       "      <td>4</td>\n",
       "      <td>MIDNIGHT</td>\n",
       "      <td>THEFT/OTHER</td>\n",
       "    </tr>\n",
       "    <tr>\n",
       "      <th>12</th>\n",
       "      <td>5</td>\n",
       "      <td>DAY</td>\n",
       "      <td>THEFT F/AUTO</td>\n",
       "    </tr>\n",
       "    <tr>\n",
       "      <th>13</th>\n",
       "      <td>5</td>\n",
       "      <td>EVENING</td>\n",
       "      <td>THEFT/OTHER</td>\n",
       "    </tr>\n",
       "    <tr>\n",
       "      <th>14</th>\n",
       "      <td>5</td>\n",
       "      <td>MIDNIGHT</td>\n",
       "      <td>THEFT/OTHER</td>\n",
       "    </tr>\n",
       "    <tr>\n",
       "      <th>15</th>\n",
       "      <td>6</td>\n",
       "      <td>DAY</td>\n",
       "      <td>THEFT/OTHER</td>\n",
       "    </tr>\n",
       "    <tr>\n",
       "      <th>16</th>\n",
       "      <td>6</td>\n",
       "      <td>EVENING</td>\n",
       "      <td>THEFT/OTHER</td>\n",
       "    </tr>\n",
       "    <tr>\n",
       "      <th>17</th>\n",
       "      <td>6</td>\n",
       "      <td>MIDNIGHT</td>\n",
       "      <td>THEFT/OTHER</td>\n",
       "    </tr>\n",
       "    <tr>\n",
       "      <th>18</th>\n",
       "      <td>7</td>\n",
       "      <td>DAY</td>\n",
       "      <td>THEFT F/AUTO</td>\n",
       "    </tr>\n",
       "    <tr>\n",
       "      <th>19</th>\n",
       "      <td>7</td>\n",
       "      <td>EVENING</td>\n",
       "      <td>THEFT/OTHER</td>\n",
       "    </tr>\n",
       "    <tr>\n",
       "      <th>20</th>\n",
       "      <td>7</td>\n",
       "      <td>MIDNIGHT</td>\n",
       "      <td>THEFT/OTHER</td>\n",
       "    </tr>\n",
       "    <tr>\n",
       "      <th>21</th>\n",
       "      <td>8</td>\n",
       "      <td>DAY</td>\n",
       "      <td>THEFT F/AUTO</td>\n",
       "    </tr>\n",
       "    <tr>\n",
       "      <th>22</th>\n",
       "      <td>8</td>\n",
       "      <td>EVENING</td>\n",
       "      <td>THEFT/OTHER</td>\n",
       "    </tr>\n",
       "    <tr>\n",
       "      <th>23</th>\n",
       "      <td>8</td>\n",
       "      <td>MIDNIGHT</td>\n",
       "      <td>ASSAULT W/DANGEROUS WEAPON</td>\n",
       "    </tr>\n",
       "  </tbody>\n",
       "</table>\n",
       "</div>"
      ],
      "text/plain": [
       "    WARD     SHIFT                     OFFENSE\n",
       "0      1       DAY                 THEFT/OTHER\n",
       "1      1   EVENING                 THEFT/OTHER\n",
       "2      1  MIDNIGHT                 THEFT/OTHER\n",
       "3      2       DAY                 THEFT/OTHER\n",
       "4      2   EVENING                 THEFT/OTHER\n",
       "5      2  MIDNIGHT                 THEFT/OTHER\n",
       "6      3       DAY                 THEFT/OTHER\n",
       "7      3   EVENING                 THEFT/OTHER\n",
       "8      3  MIDNIGHT                 THEFT/OTHER\n",
       "9      4       DAY                THEFT F/AUTO\n",
       "10     4   EVENING                 THEFT/OTHER\n",
       "11     4  MIDNIGHT                 THEFT/OTHER\n",
       "12     5       DAY                THEFT F/AUTO\n",
       "13     5   EVENING                 THEFT/OTHER\n",
       "14     5  MIDNIGHT                 THEFT/OTHER\n",
       "15     6       DAY                 THEFT/OTHER\n",
       "16     6   EVENING                 THEFT/OTHER\n",
       "17     6  MIDNIGHT                 THEFT/OTHER\n",
       "18     7       DAY                THEFT F/AUTO\n",
       "19     7   EVENING                 THEFT/OTHER\n",
       "20     7  MIDNIGHT                 THEFT/OTHER\n",
       "21     8       DAY                THEFT F/AUTO\n",
       "22     8   EVENING                 THEFT/OTHER\n",
       "23     8  MIDNIGHT  ASSAULT W/DANGEROUS WEAPON"
      ]
     },
     "execution_count": 16,
     "metadata": {},
     "output_type": "execute_result"
    }
   ],
   "source": [
    "df.groupby([\"WARD\", \"SHIFT\"])[\"OFFENSE\"].agg(pd.Series.mode).reset_index()"
   ]
  },
  {
   "cell_type": "code",
   "execution_count": 17,
   "metadata": {
    "scrolled": true
   },
   "outputs": [
    {
     "data": {
      "text/html": [
       "<div>\n",
       "<style scoped>\n",
       "    .dataframe tbody tr th:only-of-type {\n",
       "        vertical-align: middle;\n",
       "    }\n",
       "\n",
       "    .dataframe tbody tr th {\n",
       "        vertical-align: top;\n",
       "    }\n",
       "\n",
       "    .dataframe thead th {\n",
       "        text-align: right;\n",
       "    }\n",
       "</style>\n",
       "<table border=\"1\" class=\"dataframe\">\n",
       "  <thead>\n",
       "    <tr style=\"text-align: right;\">\n",
       "      <th></th>\n",
       "      <th>WARD</th>\n",
       "      <th>SHIFT</th>\n",
       "      <th>OFFENSE</th>\n",
       "    </tr>\n",
       "  </thead>\n",
       "  <tbody>\n",
       "    <tr>\n",
       "      <th>0</th>\n",
       "      <td>1</td>\n",
       "      <td>DAY</td>\n",
       "      <td>THEFT/OTHER</td>\n",
       "    </tr>\n",
       "    <tr>\n",
       "      <th>1</th>\n",
       "      <td>1</td>\n",
       "      <td>EVENING</td>\n",
       "      <td>THEFT/OTHER</td>\n",
       "    </tr>\n",
       "    <tr>\n",
       "      <th>2</th>\n",
       "      <td>1</td>\n",
       "      <td>MIDNIGHT</td>\n",
       "      <td>THEFT/OTHER</td>\n",
       "    </tr>\n",
       "    <tr>\n",
       "      <th>3</th>\n",
       "      <td>2</td>\n",
       "      <td>DAY</td>\n",
       "      <td>THEFT/OTHER</td>\n",
       "    </tr>\n",
       "    <tr>\n",
       "      <th>4</th>\n",
       "      <td>2</td>\n",
       "      <td>EVENING</td>\n",
       "      <td>THEFT/OTHER</td>\n",
       "    </tr>\n",
       "    <tr>\n",
       "      <th>5</th>\n",
       "      <td>2</td>\n",
       "      <td>MIDNIGHT</td>\n",
       "      <td>THEFT/OTHER</td>\n",
       "    </tr>\n",
       "    <tr>\n",
       "      <th>6</th>\n",
       "      <td>3</td>\n",
       "      <td>DAY</td>\n",
       "      <td>THEFT/OTHER</td>\n",
       "    </tr>\n",
       "    <tr>\n",
       "      <th>7</th>\n",
       "      <td>3</td>\n",
       "      <td>EVENING</td>\n",
       "      <td>THEFT/OTHER</td>\n",
       "    </tr>\n",
       "    <tr>\n",
       "      <th>8</th>\n",
       "      <td>3</td>\n",
       "      <td>MIDNIGHT</td>\n",
       "      <td>THEFT/OTHER</td>\n",
       "    </tr>\n",
       "    <tr>\n",
       "      <th>9</th>\n",
       "      <td>4</td>\n",
       "      <td>DAY</td>\n",
       "      <td>THEFT F/AUTO</td>\n",
       "    </tr>\n",
       "    <tr>\n",
       "      <th>10</th>\n",
       "      <td>4</td>\n",
       "      <td>EVENING</td>\n",
       "      <td>THEFT/OTHER</td>\n",
       "    </tr>\n",
       "    <tr>\n",
       "      <th>11</th>\n",
       "      <td>4</td>\n",
       "      <td>MIDNIGHT</td>\n",
       "      <td>THEFT/OTHER</td>\n",
       "    </tr>\n",
       "    <tr>\n",
       "      <th>12</th>\n",
       "      <td>5</td>\n",
       "      <td>DAY</td>\n",
       "      <td>THEFT F/AUTO</td>\n",
       "    </tr>\n",
       "    <tr>\n",
       "      <th>13</th>\n",
       "      <td>5</td>\n",
       "      <td>EVENING</td>\n",
       "      <td>THEFT/OTHER</td>\n",
       "    </tr>\n",
       "    <tr>\n",
       "      <th>14</th>\n",
       "      <td>5</td>\n",
       "      <td>MIDNIGHT</td>\n",
       "      <td>THEFT/OTHER</td>\n",
       "    </tr>\n",
       "    <tr>\n",
       "      <th>15</th>\n",
       "      <td>6</td>\n",
       "      <td>DAY</td>\n",
       "      <td>THEFT/OTHER</td>\n",
       "    </tr>\n",
       "    <tr>\n",
       "      <th>16</th>\n",
       "      <td>6</td>\n",
       "      <td>EVENING</td>\n",
       "      <td>THEFT/OTHER</td>\n",
       "    </tr>\n",
       "    <tr>\n",
       "      <th>17</th>\n",
       "      <td>6</td>\n",
       "      <td>MIDNIGHT</td>\n",
       "      <td>THEFT/OTHER</td>\n",
       "    </tr>\n",
       "    <tr>\n",
       "      <th>18</th>\n",
       "      <td>7</td>\n",
       "      <td>DAY</td>\n",
       "      <td>THEFT F/AUTO</td>\n",
       "    </tr>\n",
       "    <tr>\n",
       "      <th>19</th>\n",
       "      <td>7</td>\n",
       "      <td>EVENING</td>\n",
       "      <td>THEFT/OTHER</td>\n",
       "    </tr>\n",
       "    <tr>\n",
       "      <th>20</th>\n",
       "      <td>7</td>\n",
       "      <td>MIDNIGHT</td>\n",
       "      <td>THEFT/OTHER</td>\n",
       "    </tr>\n",
       "    <tr>\n",
       "      <th>21</th>\n",
       "      <td>8</td>\n",
       "      <td>DAY</td>\n",
       "      <td>THEFT F/AUTO</td>\n",
       "    </tr>\n",
       "    <tr>\n",
       "      <th>22</th>\n",
       "      <td>8</td>\n",
       "      <td>EVENING</td>\n",
       "      <td>THEFT/OTHER</td>\n",
       "    </tr>\n",
       "    <tr>\n",
       "      <th>23</th>\n",
       "      <td>8</td>\n",
       "      <td>MIDNIGHT</td>\n",
       "      <td>ASSAULT W/DANGEROUS WEAPON</td>\n",
       "    </tr>\n",
       "  </tbody>\n",
       "</table>\n",
       "</div>"
      ],
      "text/plain": [
       "    WARD     SHIFT                     OFFENSE\n",
       "0      1       DAY                 THEFT/OTHER\n",
       "1      1   EVENING                 THEFT/OTHER\n",
       "2      1  MIDNIGHT                 THEFT/OTHER\n",
       "3      2       DAY                 THEFT/OTHER\n",
       "4      2   EVENING                 THEFT/OTHER\n",
       "5      2  MIDNIGHT                 THEFT/OTHER\n",
       "6      3       DAY                 THEFT/OTHER\n",
       "7      3   EVENING                 THEFT/OTHER\n",
       "8      3  MIDNIGHT                 THEFT/OTHER\n",
       "9      4       DAY                THEFT F/AUTO\n",
       "10     4   EVENING                 THEFT/OTHER\n",
       "11     4  MIDNIGHT                 THEFT/OTHER\n",
       "12     5       DAY                THEFT F/AUTO\n",
       "13     5   EVENING                 THEFT/OTHER\n",
       "14     5  MIDNIGHT                 THEFT/OTHER\n",
       "15     6       DAY                 THEFT/OTHER\n",
       "16     6   EVENING                 THEFT/OTHER\n",
       "17     6  MIDNIGHT                 THEFT/OTHER\n",
       "18     7       DAY                THEFT F/AUTO\n",
       "19     7   EVENING                 THEFT/OTHER\n",
       "20     7  MIDNIGHT                 THEFT/OTHER\n",
       "21     8       DAY                THEFT F/AUTO\n",
       "22     8   EVENING                 THEFT/OTHER\n",
       "23     8  MIDNIGHT  ASSAULT W/DANGEROUS WEAPON"
      ]
     },
     "execution_count": 17,
     "metadata": {},
     "output_type": "execute_result"
    }
   ],
   "source": [
    "B = ward_shift_top_offense = df.groupby([\"WARD\", \"SHIFT\"]).agg(\n",
    "        {\n",
    "            \"OFFENSE\": lambda x: x.value_counts().index[0]\n",
    "        }\n",
    "        ).reset_index()\n",
    "B"
   ]
  },
  {
   "cell_type": "markdown",
   "metadata": {},
   "source": [
    "## Summarizing over all rows or all columns (without grouping)\n",
    "\n",
    "We can also use the `apply` function to summarize rows or columns efficiently"
   ]
  },
  {
   "cell_type": "markdown",
   "metadata": {},
   "source": [
    "**Task**: find the mean lat and longitude in one line of code"
   ]
  },
  {
   "cell_type": "code",
   "execution_count": 63,
   "metadata": {},
   "outputs": [
    {
     "data": {
      "text/plain": [
       "LATITUDE     38.907613\n",
       "LONGITUDE   -77.007049\n",
       "dtype: float64"
      ]
     },
     "execution_count": 63,
     "metadata": {},
     "output_type": "execute_result"
    }
   ],
   "source": [
    "df[[\"LATITUDE\", \"LONGITUDE\"]].apply(\"mean\", axis = 0)"
   ]
  },
  {
   "cell_type": "markdown",
   "metadata": {},
   "source": [
    "## 2. Creating new columns/transforming their type "
   ]
  },
  {
   "cell_type": "markdown",
   "metadata": {},
   "source": [
    "### Simple filtering\n",
    "\n",
    "`np.where` is in the numpy package (aliased as `np`) and operates similar to `ifelse` in R\n",
    "\n",
    "There is a built in pandas way to emulate this.\n",
    "\n",
    "**Task**: create an indicator `is_theft` for any offense that contains the word \"THEFT\"\n",
    "    \n",
    "**Task**: create an indicator `is_theft_notmotor` for any offense that contains the word \"THEFT\" but does not contain the word \"MOTOR\""
   ]
  },
  {
   "cell_type": "code",
   "execution_count": 18,
   "metadata": {},
   "outputs": [],
   "source": [
    "df[\"is_theft\"] = df.OFFENSE.str.contains(\"THEFT\")"
   ]
  },
  {
   "cell_type": "code",
   "execution_count": 69,
   "metadata": {},
   "outputs": [],
   "source": [
    "df[\"is_theft_notmotor\"] = ( df.OFFENSE.str.contains(\"THEFT\") &\n",
    "                        ~df.OFFENSE.str.contains(\"MOTOR\")  )"
   ]
  },
  {
   "cell_type": "code",
   "execution_count": 159,
   "metadata": {},
   "outputs": [
    {
     "data": {
      "text/plain": [
       "0        False\n",
       "1        False\n",
       "2        False\n",
       "3         True\n",
       "4        False\n",
       "         ...  \n",
       "27928    False\n",
       "27929    False\n",
       "27930     True\n",
       "27931    False\n",
       "27932     True\n",
       "Length: 27933, dtype: bool"
      ]
     },
     "execution_count": 159,
     "metadata": {},
     "output_type": "execute_result"
    }
   ],
   "source": [
    "df.is_theft & (~df.OFFENSE.str.contains(\"MOTOR\"))"
   ]
  },
  {
   "cell_type": "markdown",
   "metadata": {},
   "source": [
    "### np.select\n",
    "\n",
    "**Task**: create a new variable, `offense_summary`, where you:\n",
    "        \n",
    "- Recode theft offenses that use a gun or knife as the method (`METHOD`) as: violent theft\n",
    "- Recode non-theft offenses that use a gun or knife as the method as: violent other\n",
    "- Recode all other as non-violent "
   ]
  },
  {
   "cell_type": "code",
   "execution_count": null,
   "metadata": {},
   "outputs": [],
   "source": [
    "conditions = [\n",
    "    df.is_theft & df.METHOD.isin([\"GUN\", \"KNIFE\"]),\n",
    "    ~df.is_theft & df.METHOD.isin([\"GUN\", \"KNIFE\"]),\n",
    "        ]\n",
    "\n",
    "code_to_cats = [\n",
    "    \"violent theft\", \"violent other\"\n",
    "        ]\n",
    "\n",
    "df[\"offense_summary\"] = np.select(conditions, code_to_cats, \n",
    "                                 default = \"non-violent\")\n",
    "\n",
    "df.offense_summary.value_counts()"
   ]
  },
  {
   "cell_type": "markdown",
   "metadata": {},
   "source": [
    "### Transforming column types\n",
    "\n",
    "**Task**: check the type of the `START_DATE` column"
   ]
  },
  {
   "cell_type": "code",
   "execution_count": 5,
   "metadata": {},
   "outputs": [
    {
     "data": {
      "text/plain": [
       "dtype('O')"
      ]
     },
     "execution_count": 5,
     "metadata": {},
     "output_type": "execute_result"
    }
   ],
   "source": [
    "df.START_DATE.dtype"
   ]
  },
  {
   "cell_type": "markdown",
   "metadata": {},
   "source": [
    "**Task**: recast the `START_DATE` column to datetime, calling this `START_DATE_CLEAN`; coerce errors rather than cleaning the string; check the type of that new col"
   ]
  },
  {
   "cell_type": "code",
   "execution_count": 6,
   "metadata": {},
   "outputs": [],
   "source": [
    "df[\"START_DATE_CLEAN\"] = pd.to_datetime(df.START_DATE)"
   ]
  },
  {
   "cell_type": "code",
   "execution_count": 7,
   "metadata": {},
   "outputs": [
    {
     "data": {
      "text/plain": [
       "(Timestamp('1940-02-17 00:00:16+0000', tz='UTC'),\n",
       " Timestamp('2021-01-01 02:30:21+0000', tz='UTC'))"
      ]
     },
     "execution_count": 7,
     "metadata": {},
     "output_type": "execute_result"
    }
   ],
   "source": [
    "df.START_DATE_CLEAN.min(), df.START_DATE_CLEAN.max()"
   ]
  },
  {
   "cell_type": "code",
   "execution_count": null,
   "metadata": {},
   "outputs": [],
   "source": [
    "## Use this to generate groups of year-month\n",
    "df.START_DATE_CLEAN.dt.to_period(\"M\")"
   ]
  },
  {
   "cell_type": "markdown",
   "metadata": {},
   "source": [
    "## 3. Row and column filtering "
   ]
  },
  {
   "cell_type": "markdown",
   "metadata": {},
   "source": [
    "### Row subsetting\n",
    "\n",
    "**Task**: filter to crime reports about theft using the `is_theft` definition and that are in ward 3"
   ]
  },
  {
   "cell_type": "code",
   "execution_count": 22,
   "metadata": {},
   "outputs": [
    {
     "data": {
      "text/html": [
       "<div>\n",
       "<style scoped>\n",
       "    .dataframe tbody tr th:only-of-type {\n",
       "        vertical-align: middle;\n",
       "    }\n",
       "\n",
       "    .dataframe tbody tr th {\n",
       "        vertical-align: top;\n",
       "    }\n",
       "\n",
       "    .dataframe thead th {\n",
       "        text-align: right;\n",
       "    }\n",
       "</style>\n",
       "<table border=\"1\" class=\"dataframe\">\n",
       "  <thead>\n",
       "    <tr style=\"text-align: right;\">\n",
       "      <th></th>\n",
       "      <th>X</th>\n",
       "      <th>Y</th>\n",
       "      <th>CCN</th>\n",
       "      <th>REPORT_DAT</th>\n",
       "      <th>SHIFT</th>\n",
       "      <th>METHOD</th>\n",
       "      <th>OFFENSE</th>\n",
       "      <th>BLOCK</th>\n",
       "      <th>XBLOCK</th>\n",
       "      <th>YBLOCK</th>\n",
       "      <th>...</th>\n",
       "      <th>VOTING_PRECINCT</th>\n",
       "      <th>LATITUDE</th>\n",
       "      <th>LONGITUDE</th>\n",
       "      <th>BID</th>\n",
       "      <th>START_DATE</th>\n",
       "      <th>END_DATE</th>\n",
       "      <th>OBJECTID</th>\n",
       "      <th>OCTO_RECORD_ID</th>\n",
       "      <th>START_DATE_CLEAN</th>\n",
       "      <th>is_theft</th>\n",
       "    </tr>\n",
       "  </thead>\n",
       "  <tbody>\n",
       "    <tr>\n",
       "      <th>11</th>\n",
       "      <td>-77.051908</td>\n",
       "      <td>38.924199</td>\n",
       "      <td>20170566</td>\n",
       "      <td>2020/11/30 20:53:51+00</td>\n",
       "      <td>EVENING</td>\n",
       "      <td>OTHERS</td>\n",
       "      <td>THEFT/OTHER</td>\n",
       "      <td>2600 - 2649 BLOCK OF CONNECTICUT AVENUE NW</td>\n",
       "      <td>395499.0</td>\n",
       "      <td>139592.0</td>\n",
       "      <td>...</td>\n",
       "      <td>Precinct 136</td>\n",
       "      <td>38.924191</td>\n",
       "      <td>-77.051906</td>\n",
       "      <td>NaN</td>\n",
       "      <td>2020/11/30 16:45:06+00</td>\n",
       "      <td>2020/11/30 17:30:13+00</td>\n",
       "      <td>398217704</td>\n",
       "      <td>NaN</td>\n",
       "      <td>2020-11-30 16:45:06+00:00</td>\n",
       "      <td>True</td>\n",
       "    </tr>\n",
       "    <tr>\n",
       "      <th>18</th>\n",
       "      <td>-77.083768</td>\n",
       "      <td>38.960042</td>\n",
       "      <td>20121641</td>\n",
       "      <td>2020/08/26 03:29:34+00</td>\n",
       "      <td>MIDNIGHT</td>\n",
       "      <td>OTHERS</td>\n",
       "      <td>THEFT F/AUTO</td>\n",
       "      <td>5300 - 5399 BLOCK OF 43RD STREET NW</td>\n",
       "      <td>392740.0</td>\n",
       "      <td>143573.0</td>\n",
       "      <td>...</td>\n",
       "      <td>Precinct 32</td>\n",
       "      <td>38.960035</td>\n",
       "      <td>-77.083765</td>\n",
       "      <td>NaN</td>\n",
       "      <td>2020/08/25 22:30:03+00</td>\n",
       "      <td>2020/08/26 01:00:04+00</td>\n",
       "      <td>398217732</td>\n",
       "      <td>NaN</td>\n",
       "      <td>2020-08-25 22:30:03+00:00</td>\n",
       "      <td>True</td>\n",
       "    </tr>\n",
       "    <tr>\n",
       "      <th>28</th>\n",
       "      <td>-77.060408</td>\n",
       "      <td>38.938806</td>\n",
       "      <td>20160695</td>\n",
       "      <td>2020/11/10 05:15:06+00</td>\n",
       "      <td>MIDNIGHT</td>\n",
       "      <td>OTHERS</td>\n",
       "      <td>THEFT/OTHER</td>\n",
       "      <td>3700 - 3899 BLOCK OF CONNECTICUT AVENUE NW</td>\n",
       "      <td>394763.0</td>\n",
       "      <td>141214.0</td>\n",
       "      <td>...</td>\n",
       "      <td>Precinct 27</td>\n",
       "      <td>38.938799</td>\n",
       "      <td>-77.060406</td>\n",
       "      <td>NaN</td>\n",
       "      <td>2020/11/10 03:47:06+00</td>\n",
       "      <td>2020/11/10 05:15:44+00</td>\n",
       "      <td>398217791</td>\n",
       "      <td>NaN</td>\n",
       "      <td>2020-11-10 03:47:06+00:00</td>\n",
       "      <td>True</td>\n",
       "    </tr>\n",
       "    <tr>\n",
       "      <th>59</th>\n",
       "      <td>-77.074228</td>\n",
       "      <td>38.962589</td>\n",
       "      <td>20035501</td>\n",
       "      <td>2020/02/27 22:44:09+00</td>\n",
       "      <td>EVENING</td>\n",
       "      <td>OTHERS</td>\n",
       "      <td>THEFT/OTHER</td>\n",
       "      <td>5420 - 5499 BLOCK OF CONNECTICUT AVENUE NW</td>\n",
       "      <td>393567.0</td>\n",
       "      <td>143855.0</td>\n",
       "      <td>...</td>\n",
       "      <td>Precinct 50</td>\n",
       "      <td>38.962581</td>\n",
       "      <td>-77.074226</td>\n",
       "      <td>NaN</td>\n",
       "      <td>2020/02/27 18:50:10+00</td>\n",
       "      <td>2020/02/27 22:00:06+00</td>\n",
       "      <td>398217992</td>\n",
       "      <td>NaN</td>\n",
       "      <td>2020-02-27 18:50:10+00:00</td>\n",
       "      <td>True</td>\n",
       "    </tr>\n",
       "    <tr>\n",
       "      <th>74</th>\n",
       "      <td>-77.056309</td>\n",
       "      <td>38.933503</td>\n",
       "      <td>20001654</td>\n",
       "      <td>2020/01/03 20:09:51+00</td>\n",
       "      <td>EVENING</td>\n",
       "      <td>OTHERS</td>\n",
       "      <td>THEFT F/AUTO</td>\n",
       "      <td>2700 - 2899 BLOCK OF MACOMB STREET NW</td>\n",
       "      <td>395118.0</td>\n",
       "      <td>140625.0</td>\n",
       "      <td>...</td>\n",
       "      <td>Precinct 34</td>\n",
       "      <td>38.933495</td>\n",
       "      <td>-77.056307</td>\n",
       "      <td>NaN</td>\n",
       "      <td>2020/01/03 19:38:39+00</td>\n",
       "      <td>2020/01/03 20:10:05+00</td>\n",
       "      <td>398218125</td>\n",
       "      <td>NaN</td>\n",
       "      <td>2020-01-03 19:38:39+00:00</td>\n",
       "      <td>True</td>\n",
       "    </tr>\n",
       "  </tbody>\n",
       "</table>\n",
       "<p>5 rows × 27 columns</p>\n",
       "</div>"
      ],
      "text/plain": [
       "            X          Y       CCN              REPORT_DAT     SHIFT  METHOD  \\\n",
       "11 -77.051908  38.924199  20170566  2020/11/30 20:53:51+00   EVENING  OTHERS   \n",
       "18 -77.083768  38.960042  20121641  2020/08/26 03:29:34+00  MIDNIGHT  OTHERS   \n",
       "28 -77.060408  38.938806  20160695  2020/11/10 05:15:06+00  MIDNIGHT  OTHERS   \n",
       "59 -77.074228  38.962589  20035501  2020/02/27 22:44:09+00   EVENING  OTHERS   \n",
       "74 -77.056309  38.933503  20001654  2020/01/03 20:09:51+00   EVENING  OTHERS   \n",
       "\n",
       "         OFFENSE                                       BLOCK    XBLOCK  \\\n",
       "11   THEFT/OTHER  2600 - 2649 BLOCK OF CONNECTICUT AVENUE NW  395499.0   \n",
       "18  THEFT F/AUTO         5300 - 5399 BLOCK OF 43RD STREET NW  392740.0   \n",
       "28   THEFT/OTHER  3700 - 3899 BLOCK OF CONNECTICUT AVENUE NW  394763.0   \n",
       "59   THEFT/OTHER  5420 - 5499 BLOCK OF CONNECTICUT AVENUE NW  393567.0   \n",
       "74  THEFT F/AUTO       2700 - 2899 BLOCK OF MACOMB STREET NW  395118.0   \n",
       "\n",
       "      YBLOCK  ...  VOTING_PRECINCT   LATITUDE  LONGITUDE  BID  \\\n",
       "11  139592.0  ...     Precinct 136  38.924191 -77.051906  NaN   \n",
       "18  143573.0  ...      Precinct 32  38.960035 -77.083765  NaN   \n",
       "28  141214.0  ...      Precinct 27  38.938799 -77.060406  NaN   \n",
       "59  143855.0  ...      Precinct 50  38.962581 -77.074226  NaN   \n",
       "74  140625.0  ...      Precinct 34  38.933495 -77.056307  NaN   \n",
       "\n",
       "                START_DATE                END_DATE   OBJECTID OCTO_RECORD_ID  \\\n",
       "11  2020/11/30 16:45:06+00  2020/11/30 17:30:13+00  398217704            NaN   \n",
       "18  2020/08/25 22:30:03+00  2020/08/26 01:00:04+00  398217732            NaN   \n",
       "28  2020/11/10 03:47:06+00  2020/11/10 05:15:44+00  398217791            NaN   \n",
       "59  2020/02/27 18:50:10+00  2020/02/27 22:00:06+00  398217992            NaN   \n",
       "74  2020/01/03 19:38:39+00  2020/01/03 20:10:05+00  398218125            NaN   \n",
       "\n",
       "            START_DATE_CLEAN  is_theft  \n",
       "11 2020-11-30 16:45:06+00:00      True  \n",
       "18 2020-08-25 22:30:03+00:00      True  \n",
       "28 2020-11-10 03:47:06+00:00      True  \n",
       "59 2020-02-27 18:50:10+00:00      True  \n",
       "74 2020-01-03 19:38:39+00:00      True  \n",
       "\n",
       "[5 rows x 27 columns]"
      ]
     },
     "execution_count": 22,
     "metadata": {},
     "output_type": "execute_result"
    }
   ],
   "source": [
    "theft_W3 = df[df.is_theft & (df.WARD == 3)]\n",
    "theft_W3.head()"
   ]
  },
  {
   "cell_type": "markdown",
   "metadata": {},
   "source": [
    "### Column subsetting\n",
    "**Task**: select two columns--`START_DATE` and `END_DATE`--and print the head of the dataframe"
   ]
  },
  {
   "cell_type": "code",
   "execution_count": 19,
   "metadata": {},
   "outputs": [
    {
     "data": {
      "text/html": [
       "<div>\n",
       "<style scoped>\n",
       "    .dataframe tbody tr th:only-of-type {\n",
       "        vertical-align: middle;\n",
       "    }\n",
       "\n",
       "    .dataframe tbody tr th {\n",
       "        vertical-align: top;\n",
       "    }\n",
       "\n",
       "    .dataframe thead th {\n",
       "        text-align: right;\n",
       "    }\n",
       "</style>\n",
       "<table border=\"1\" class=\"dataframe\">\n",
       "  <thead>\n",
       "    <tr style=\"text-align: right;\">\n",
       "      <th></th>\n",
       "      <th>START_DATE</th>\n",
       "      <th>END_DATE</th>\n",
       "      <th>START_DATE_CLEAN</th>\n",
       "    </tr>\n",
       "  </thead>\n",
       "  <tbody>\n",
       "    <tr>\n",
       "      <th>0</th>\n",
       "      <td>2020/10/27 20:26:31+00</td>\n",
       "      <td>2020/10/27 20:37:29+00</td>\n",
       "      <td>2020-10-27 20:26:31+00:00</td>\n",
       "    </tr>\n",
       "    <tr>\n",
       "      <th>1</th>\n",
       "      <td>2020/06/29 23:30:04+00</td>\n",
       "      <td>2020/06/30 11:00:09+00</td>\n",
       "      <td>2020-06-29 23:30:04+00:00</td>\n",
       "    </tr>\n",
       "    <tr>\n",
       "      <th>2</th>\n",
       "      <td>2020/04/27 22:49:30+00</td>\n",
       "      <td>NaN</td>\n",
       "      <td>2020-04-27 22:49:30+00:00</td>\n",
       "    </tr>\n",
       "    <tr>\n",
       "      <th>3</th>\n",
       "      <td>2020/07/12 17:36:13+00</td>\n",
       "      <td>2020/07/12 18:10:45+00</td>\n",
       "      <td>2020-07-12 17:36:13+00:00</td>\n",
       "    </tr>\n",
       "    <tr>\n",
       "      <th>4</th>\n",
       "      <td>2020/09/09 01:30:07+00</td>\n",
       "      <td>2020/09/10 23:00:57+00</td>\n",
       "      <td>2020-09-09 01:30:07+00:00</td>\n",
       "    </tr>\n",
       "  </tbody>\n",
       "</table>\n",
       "</div>"
      ],
      "text/plain": [
       "               START_DATE                END_DATE          START_DATE_CLEAN\n",
       "0  2020/10/27 20:26:31+00  2020/10/27 20:37:29+00 2020-10-27 20:26:31+00:00\n",
       "1  2020/06/29 23:30:04+00  2020/06/30 11:00:09+00 2020-06-29 23:30:04+00:00\n",
       "2  2020/04/27 22:49:30+00                     NaN 2020-04-27 22:49:30+00:00\n",
       "3  2020/07/12 17:36:13+00  2020/07/12 18:10:45+00 2020-07-12 17:36:13+00:00\n",
       "4  2020/09/09 01:30:07+00  2020/09/10 23:00:57+00 2020-09-09 01:30:07+00:00"
      ]
     },
     "execution_count": 19,
     "metadata": {},
     "output_type": "execute_result"
    }
   ],
   "source": [
    "cols = [c for c in df.columns if \"DATE\" in c]\n",
    "df[cols].head()"
   ]
  },
  {
   "cell_type": "markdown",
   "metadata": {},
   "source": [
    "**Task**: filter reports of crime in `START_DATE_CLEAN` before May 2020 and that are located in ward 1; select the ward and `START_DATE` column and print a random sample of rows"
   ]
  },
  {
   "cell_type": "code",
   "execution_count": 23,
   "metadata": {},
   "outputs": [
    {
     "data": {
      "text/html": [
       "<div>\n",
       "<style scoped>\n",
       "    .dataframe tbody tr th:only-of-type {\n",
       "        vertical-align: middle;\n",
       "    }\n",
       "\n",
       "    .dataframe tbody tr th {\n",
       "        vertical-align: top;\n",
       "    }\n",
       "\n",
       "    .dataframe thead th {\n",
       "        text-align: right;\n",
       "    }\n",
       "</style>\n",
       "<table border=\"1\" class=\"dataframe\">\n",
       "  <thead>\n",
       "    <tr style=\"text-align: right;\">\n",
       "      <th></th>\n",
       "      <th>WARD</th>\n",
       "      <th>START_DATE</th>\n",
       "    </tr>\n",
       "  </thead>\n",
       "  <tbody>\n",
       "    <tr>\n",
       "      <th>4583</th>\n",
       "      <td>1</td>\n",
       "      <td>2020/03/04 23:58:07+00</td>\n",
       "    </tr>\n",
       "    <tr>\n",
       "      <th>17613</th>\n",
       "      <td>1</td>\n",
       "      <td>2020/02/21 22:29:03+00</td>\n",
       "    </tr>\n",
       "    <tr>\n",
       "      <th>16308</th>\n",
       "      <td>1</td>\n",
       "      <td>2020/03/21 06:38:59+00</td>\n",
       "    </tr>\n",
       "    <tr>\n",
       "      <th>13041</th>\n",
       "      <td>1</td>\n",
       "      <td>2020/03/02 19:28:41+00</td>\n",
       "    </tr>\n",
       "    <tr>\n",
       "      <th>5290</th>\n",
       "      <td>1</td>\n",
       "      <td>2020/02/20 05:11:46+00</td>\n",
       "    </tr>\n",
       "    <tr>\n",
       "      <th>13982</th>\n",
       "      <td>1</td>\n",
       "      <td>2020/02/23 09:45:49+00</td>\n",
       "    </tr>\n",
       "    <tr>\n",
       "      <th>18506</th>\n",
       "      <td>1</td>\n",
       "      <td>2020/04/12 19:36:24+00</td>\n",
       "    </tr>\n",
       "    <tr>\n",
       "      <th>20352</th>\n",
       "      <td>1</td>\n",
       "      <td>2020/03/13 16:00:53+00</td>\n",
       "    </tr>\n",
       "    <tr>\n",
       "      <th>26708</th>\n",
       "      <td>1</td>\n",
       "      <td>2020/02/06 21:20:53+00</td>\n",
       "    </tr>\n",
       "    <tr>\n",
       "      <th>12249</th>\n",
       "      <td>1</td>\n",
       "      <td>2020/04/12 16:24:09+00</td>\n",
       "    </tr>\n",
       "  </tbody>\n",
       "</table>\n",
       "</div>"
      ],
      "text/plain": [
       "       WARD              START_DATE\n",
       "4583      1  2020/03/04 23:58:07+00\n",
       "17613     1  2020/02/21 22:29:03+00\n",
       "16308     1  2020/03/21 06:38:59+00\n",
       "13041     1  2020/03/02 19:28:41+00\n",
       "5290      1  2020/02/20 05:11:46+00\n",
       "13982     1  2020/02/23 09:45:49+00\n",
       "18506     1  2020/04/12 19:36:24+00\n",
       "20352     1  2020/03/13 16:00:53+00\n",
       "26708     1  2020/02/06 21:20:53+00\n",
       "12249     1  2020/04/12 16:24:09+00"
      ]
     },
     "execution_count": 23,
     "metadata": {},
     "output_type": "execute_result"
    }
   ],
   "source": [
    "df1 = df[(df.START_DATE_CLEAN < \"2020/05/01\") & (df.WARD == 1)]\n",
    "df1[[\"WARD\", \"START_DATE\"]].sample(10)"
   ]
  },
  {
   "cell_type": "code",
   "execution_count": null,
   "metadata": {},
   "outputs": [],
   "source": []
  },
  {
   "cell_type": "code",
   "execution_count": null,
   "metadata": {},
   "outputs": [],
   "source": []
  },
  {
   "cell_type": "code",
   "execution_count": null,
   "metadata": {},
   "outputs": [],
   "source": []
  }
 ],
 "metadata": {
  "kernelspec": {
   "display_name": "Python 3 (ipykernel)",
   "language": "python",
   "name": "python3"
  },
  "language_info": {
   "codemirror_mode": {
    "name": "ipython",
    "version": 3
   },
   "file_extension": ".py",
   "mimetype": "text/x-python",
   "name": "python",
   "nbconvert_exporter": "python",
   "pygments_lexer": "ipython3",
   "version": "3.10.4"
  }
 },
 "nbformat": 4,
 "nbformat_minor": 4
}
